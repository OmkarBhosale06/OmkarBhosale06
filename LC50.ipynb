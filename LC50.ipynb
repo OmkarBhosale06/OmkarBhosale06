{
  "cells": [
    {
      "cell_type": "markdown",
      "metadata": {
        "id": "view-in-github",
        "colab_type": "text"
      },
      "source": [
        "<a href=\"https://colab.research.google.com/github/OmkarBhosale06/OmkarBhosale06/blob/main/LC50.ipynb\" target=\"_parent\"><img src=\"https://colab.research.google.com/assets/colab-badge.svg\" alt=\"Open In Colab\"/></a>"
      ]
    },
    {
      "cell_type": "code",
      "execution_count": null,
      "metadata": {
        "id": "VGPz9jKEW1RO"
      },
      "outputs": [],
      "source": [
        "import pandas as pd \n",
        "import numpy as np\n",
        "import matplotlib.pyplot as plt\n",
        "from sklearn.model_selection import train_test_split\n",
        "from sklearn.linear_model import LinearRegression,Ridge,Lasso"
      ]
    },
    {
      "cell_type": "code",
      "execution_count": null,
      "metadata": {
        "id": "enTHTgByYA_C"
      },
      "outputs": [],
      "source": [
        "dataset = '/content/qsar_fish_toxicity.csv'\n",
        "data = pd.read_csv(dataset)\n",
        "\n",
        "      \n",
        "  \n",
        "  \n",
        "\n"
      ]
    },
    {
      "cell_type": "code",
      "execution_count": null,
      "metadata": {
        "colab": {
          "base_uri": "https://localhost:8080/",
          "height": 206
        },
        "id": "sNzeFzsgYZFI",
        "outputId": "429b00d0-15a0-41e2-a6a5-4606dd004b56"
      },
      "outputs": [
        {
          "output_type": "execute_result",
          "data": {
            "text/html": [
              "\n",
              "  <div id=\"df-f700f1da-4d71-48f6-a024-1fa4978192f8\">\n",
              "    <div class=\"colab-df-container\">\n",
              "      <div>\n",
              "<style scoped>\n",
              "    .dataframe tbody tr th:only-of-type {\n",
              "        vertical-align: middle;\n",
              "    }\n",
              "\n",
              "    .dataframe tbody tr th {\n",
              "        vertical-align: top;\n",
              "    }\n",
              "\n",
              "    .dataframe thead th {\n",
              "        text-align: right;\n",
              "    }\n",
              "</style>\n",
              "<table border=\"1\" class=\"dataframe\">\n",
              "  <thead>\n",
              "    <tr style=\"text-align: right;\">\n",
              "      <th></th>\n",
              "      <th>CIC0</th>\n",
              "      <th>SM1_Dz(Z)</th>\n",
              "      <th>GATS1i</th>\n",
              "      <th>NdsCH</th>\n",
              "      <th>NdssC</th>\n",
              "      <th>MLOGP</th>\n",
              "      <th>LC50 [-LOG(mol/L)]</th>\n",
              "    </tr>\n",
              "  </thead>\n",
              "  <tbody>\n",
              "    <tr>\n",
              "      <th>0</th>\n",
              "      <td>3.260</td>\n",
              "      <td>0.829</td>\n",
              "      <td>1.676</td>\n",
              "      <td>0</td>\n",
              "      <td>1</td>\n",
              "      <td>1.453</td>\n",
              "      <td>3.770</td>\n",
              "    </tr>\n",
              "    <tr>\n",
              "      <th>1</th>\n",
              "      <td>2.189</td>\n",
              "      <td>0.580</td>\n",
              "      <td>0.863</td>\n",
              "      <td>0</td>\n",
              "      <td>0</td>\n",
              "      <td>1.348</td>\n",
              "      <td>3.115</td>\n",
              "    </tr>\n",
              "    <tr>\n",
              "      <th>2</th>\n",
              "      <td>2.125</td>\n",
              "      <td>0.638</td>\n",
              "      <td>0.831</td>\n",
              "      <td>0</td>\n",
              "      <td>0</td>\n",
              "      <td>1.348</td>\n",
              "      <td>3.531</td>\n",
              "    </tr>\n",
              "    <tr>\n",
              "      <th>3</th>\n",
              "      <td>3.027</td>\n",
              "      <td>0.331</td>\n",
              "      <td>1.472</td>\n",
              "      <td>1</td>\n",
              "      <td>0</td>\n",
              "      <td>1.807</td>\n",
              "      <td>3.510</td>\n",
              "    </tr>\n",
              "    <tr>\n",
              "      <th>4</th>\n",
              "      <td>2.094</td>\n",
              "      <td>0.827</td>\n",
              "      <td>0.860</td>\n",
              "      <td>0</td>\n",
              "      <td>0</td>\n",
              "      <td>1.886</td>\n",
              "      <td>5.390</td>\n",
              "    </tr>\n",
              "  </tbody>\n",
              "</table>\n",
              "</div>\n",
              "      <button class=\"colab-df-convert\" onclick=\"convertToInteractive('df-f700f1da-4d71-48f6-a024-1fa4978192f8')\"\n",
              "              title=\"Convert this dataframe to an interactive table.\"\n",
              "              style=\"display:none;\">\n",
              "        \n",
              "  <svg xmlns=\"http://www.w3.org/2000/svg\" height=\"24px\"viewBox=\"0 0 24 24\"\n",
              "       width=\"24px\">\n",
              "    <path d=\"M0 0h24v24H0V0z\" fill=\"none\"/>\n",
              "    <path d=\"M18.56 5.44l.94 2.06.94-2.06 2.06-.94-2.06-.94-.94-2.06-.94 2.06-2.06.94zm-11 1L8.5 8.5l.94-2.06 2.06-.94-2.06-.94L8.5 2.5l-.94 2.06-2.06.94zm10 10l.94 2.06.94-2.06 2.06-.94-2.06-.94-.94-2.06-.94 2.06-2.06.94z\"/><path d=\"M17.41 7.96l-1.37-1.37c-.4-.4-.92-.59-1.43-.59-.52 0-1.04.2-1.43.59L10.3 9.45l-7.72 7.72c-.78.78-.78 2.05 0 2.83L4 21.41c.39.39.9.59 1.41.59.51 0 1.02-.2 1.41-.59l7.78-7.78 2.81-2.81c.8-.78.8-2.07 0-2.86zM5.41 20L4 18.59l7.72-7.72 1.47 1.35L5.41 20z\"/>\n",
              "  </svg>\n",
              "      </button>\n",
              "      \n",
              "  <style>\n",
              "    .colab-df-container {\n",
              "      display:flex;\n",
              "      flex-wrap:wrap;\n",
              "      gap: 12px;\n",
              "    }\n",
              "\n",
              "    .colab-df-convert {\n",
              "      background-color: #E8F0FE;\n",
              "      border: none;\n",
              "      border-radius: 50%;\n",
              "      cursor: pointer;\n",
              "      display: none;\n",
              "      fill: #1967D2;\n",
              "      height: 32px;\n",
              "      padding: 0 0 0 0;\n",
              "      width: 32px;\n",
              "    }\n",
              "\n",
              "    .colab-df-convert:hover {\n",
              "      background-color: #E2EBFA;\n",
              "      box-shadow: 0px 1px 2px rgba(60, 64, 67, 0.3), 0px 1px 3px 1px rgba(60, 64, 67, 0.15);\n",
              "      fill: #174EA6;\n",
              "    }\n",
              "\n",
              "    [theme=dark] .colab-df-convert {\n",
              "      background-color: #3B4455;\n",
              "      fill: #D2E3FC;\n",
              "    }\n",
              "\n",
              "    [theme=dark] .colab-df-convert:hover {\n",
              "      background-color: #434B5C;\n",
              "      box-shadow: 0px 1px 3px 1px rgba(0, 0, 0, 0.15);\n",
              "      filter: drop-shadow(0px 1px 2px rgba(0, 0, 0, 0.3));\n",
              "      fill: #FFFFFF;\n",
              "    }\n",
              "  </style>\n",
              "\n",
              "      <script>\n",
              "        const buttonEl =\n",
              "          document.querySelector('#df-f700f1da-4d71-48f6-a024-1fa4978192f8 button.colab-df-convert');\n",
              "        buttonEl.style.display =\n",
              "          google.colab.kernel.accessAllowed ? 'block' : 'none';\n",
              "\n",
              "        async function convertToInteractive(key) {\n",
              "          const element = document.querySelector('#df-f700f1da-4d71-48f6-a024-1fa4978192f8');\n",
              "          const dataTable =\n",
              "            await google.colab.kernel.invokeFunction('convertToInteractive',\n",
              "                                                     [key], {});\n",
              "          if (!dataTable) return;\n",
              "\n",
              "          const docLinkHtml = 'Like what you see? Visit the ' +\n",
              "            '<a target=\"_blank\" href=https://colab.research.google.com/notebooks/data_table.ipynb>data table notebook</a>'\n",
              "            + ' to learn more about interactive tables.';\n",
              "          element.innerHTML = '';\n",
              "          dataTable['output_type'] = 'display_data';\n",
              "          await google.colab.output.renderOutput(dataTable, element);\n",
              "          const docLink = document.createElement('div');\n",
              "          docLink.innerHTML = docLinkHtml;\n",
              "          element.appendChild(docLink);\n",
              "        }\n",
              "      </script>\n",
              "    </div>\n",
              "  </div>\n",
              "  "
            ],
            "text/plain": [
              "    CIC0  SM1_Dz(Z)  GATS1i  NdsCH  NdssC  MLOGP  LC50 [-LOG(mol/L)]\n",
              "0  3.260      0.829   1.676      0      1  1.453               3.770\n",
              "1  2.189      0.580   0.863      0      0  1.348               3.115\n",
              "2  2.125      0.638   0.831      0      0  1.348               3.531\n",
              "3  3.027      0.331   1.472      1      0  1.807               3.510\n",
              "4  2.094      0.827   0.860      0      0  1.886               5.390"
            ]
          },
          "metadata": {},
          "execution_count": 3
        }
      ],
      "source": [
        "\n",
        "data.head()"
      ]
    },
    {
      "cell_type": "code",
      "source": [
        "data['NdsCH'].value_counts()"
      ],
      "metadata": {
        "colab": {
          "base_uri": "https://localhost:8080/"
        },
        "id": "t_0dl0j8mcCG",
        "outputId": "5bc8ab99-d3fe-4b06-be2f-1bbfe067f102"
      },
      "execution_count": null,
      "outputs": [
        {
          "output_type": "execute_result",
          "data": {
            "text/plain": [
              "0    760\n",
              "1    107\n",
              "2     29\n",
              "4      7\n",
              "3      5\n",
              "Name: NdsCH, dtype: int64"
            ]
          },
          "metadata": {},
          "execution_count": 5
        }
      ]
    },
    {
      "cell_type": "code",
      "source": [
        "\n",
        "column_names = list(data.columns)\n",
        "column_names"
      ],
      "metadata": {
        "colab": {
          "base_uri": "https://localhost:8080/"
        },
        "id": "4pzuIb0AlgZ9",
        "outputId": "89f7ccd6-d0bc-4c2d-e46d-36575acd0c4b"
      },
      "execution_count": null,
      "outputs": [
        {
          "output_type": "execute_result",
          "data": {
            "text/plain": [
              "['CIC0',\n",
              " 'SM1_Dz(Z)',\n",
              " 'GATS1i',\n",
              " 'NdsCH',\n",
              " 'NdssC',\n",
              " 'MLOGP',\n",
              " 'LC50 [-LOG(mol/L)]']"
            ]
          },
          "metadata": {},
          "execution_count": 6
        }
      ]
    },
    {
      "cell_type": "code",
      "execution_count": null,
      "metadata": {
        "colab": {
          "base_uri": "https://localhost:8080/",
          "height": 206
        },
        "id": "4bKMIdaRZZkq",
        "outputId": "1a76edc4-24bd-4fbf-b9a5-7a6cfe2cfa88"
      },
      "outputs": [
        {
          "output_type": "execute_result",
          "data": {
            "text/html": [
              "\n",
              "  <div id=\"df-63501e4c-6371-4f7e-bf5a-5ebef44763df\">\n",
              "    <div class=\"colab-df-container\">\n",
              "      <div>\n",
              "<style scoped>\n",
              "    .dataframe tbody tr th:only-of-type {\n",
              "        vertical-align: middle;\n",
              "    }\n",
              "\n",
              "    .dataframe tbody tr th {\n",
              "        vertical-align: top;\n",
              "    }\n",
              "\n",
              "    .dataframe thead th {\n",
              "        text-align: right;\n",
              "    }\n",
              "</style>\n",
              "<table border=\"1\" class=\"dataframe\">\n",
              "  <thead>\n",
              "    <tr style=\"text-align: right;\">\n",
              "      <th></th>\n",
              "      <th>CIC0</th>\n",
              "      <th>SM1_Dz(Z)</th>\n",
              "      <th>GATS1i</th>\n",
              "      <th>NdsCH</th>\n",
              "      <th>NdssC</th>\n",
              "      <th>MLOGP</th>\n",
              "      <th>LC50 [-LOG(mol/L)]</th>\n",
              "    </tr>\n",
              "  </thead>\n",
              "  <tbody>\n",
              "    <tr>\n",
              "      <th>903</th>\n",
              "      <td>2.801</td>\n",
              "      <td>0.728</td>\n",
              "      <td>2.226</td>\n",
              "      <td>0</td>\n",
              "      <td>2</td>\n",
              "      <td>0.736</td>\n",
              "      <td>3.109</td>\n",
              "    </tr>\n",
              "    <tr>\n",
              "      <th>904</th>\n",
              "      <td>3.652</td>\n",
              "      <td>0.872</td>\n",
              "      <td>0.867</td>\n",
              "      <td>2</td>\n",
              "      <td>3</td>\n",
              "      <td>3.983</td>\n",
              "      <td>4.040</td>\n",
              "    </tr>\n",
              "    <tr>\n",
              "      <th>905</th>\n",
              "      <td>3.763</td>\n",
              "      <td>0.916</td>\n",
              "      <td>0.878</td>\n",
              "      <td>0</td>\n",
              "      <td>6</td>\n",
              "      <td>2.918</td>\n",
              "      <td>4.818</td>\n",
              "    </tr>\n",
              "    <tr>\n",
              "      <th>906</th>\n",
              "      <td>2.831</td>\n",
              "      <td>1.393</td>\n",
              "      <td>1.077</td>\n",
              "      <td>0</td>\n",
              "      <td>1</td>\n",
              "      <td>0.906</td>\n",
              "      <td>5.317</td>\n",
              "    </tr>\n",
              "    <tr>\n",
              "      <th>907</th>\n",
              "      <td>4.057</td>\n",
              "      <td>1.032</td>\n",
              "      <td>1.183</td>\n",
              "      <td>1</td>\n",
              "      <td>3</td>\n",
              "      <td>4.754</td>\n",
              "      <td>8.201</td>\n",
              "    </tr>\n",
              "  </tbody>\n",
              "</table>\n",
              "</div>\n",
              "      <button class=\"colab-df-convert\" onclick=\"convertToInteractive('df-63501e4c-6371-4f7e-bf5a-5ebef44763df')\"\n",
              "              title=\"Convert this dataframe to an interactive table.\"\n",
              "              style=\"display:none;\">\n",
              "        \n",
              "  <svg xmlns=\"http://www.w3.org/2000/svg\" height=\"24px\"viewBox=\"0 0 24 24\"\n",
              "       width=\"24px\">\n",
              "    <path d=\"M0 0h24v24H0V0z\" fill=\"none\"/>\n",
              "    <path d=\"M18.56 5.44l.94 2.06.94-2.06 2.06-.94-2.06-.94-.94-2.06-.94 2.06-2.06.94zm-11 1L8.5 8.5l.94-2.06 2.06-.94-2.06-.94L8.5 2.5l-.94 2.06-2.06.94zm10 10l.94 2.06.94-2.06 2.06-.94-2.06-.94-.94-2.06-.94 2.06-2.06.94z\"/><path d=\"M17.41 7.96l-1.37-1.37c-.4-.4-.92-.59-1.43-.59-.52 0-1.04.2-1.43.59L10.3 9.45l-7.72 7.72c-.78.78-.78 2.05 0 2.83L4 21.41c.39.39.9.59 1.41.59.51 0 1.02-.2 1.41-.59l7.78-7.78 2.81-2.81c.8-.78.8-2.07 0-2.86zM5.41 20L4 18.59l7.72-7.72 1.47 1.35L5.41 20z\"/>\n",
              "  </svg>\n",
              "      </button>\n",
              "      \n",
              "  <style>\n",
              "    .colab-df-container {\n",
              "      display:flex;\n",
              "      flex-wrap:wrap;\n",
              "      gap: 12px;\n",
              "    }\n",
              "\n",
              "    .colab-df-convert {\n",
              "      background-color: #E8F0FE;\n",
              "      border: none;\n",
              "      border-radius: 50%;\n",
              "      cursor: pointer;\n",
              "      display: none;\n",
              "      fill: #1967D2;\n",
              "      height: 32px;\n",
              "      padding: 0 0 0 0;\n",
              "      width: 32px;\n",
              "    }\n",
              "\n",
              "    .colab-df-convert:hover {\n",
              "      background-color: #E2EBFA;\n",
              "      box-shadow: 0px 1px 2px rgba(60, 64, 67, 0.3), 0px 1px 3px 1px rgba(60, 64, 67, 0.15);\n",
              "      fill: #174EA6;\n",
              "    }\n",
              "\n",
              "    [theme=dark] .colab-df-convert {\n",
              "      background-color: #3B4455;\n",
              "      fill: #D2E3FC;\n",
              "    }\n",
              "\n",
              "    [theme=dark] .colab-df-convert:hover {\n",
              "      background-color: #434B5C;\n",
              "      box-shadow: 0px 1px 3px 1px rgba(0, 0, 0, 0.15);\n",
              "      filter: drop-shadow(0px 1px 2px rgba(0, 0, 0, 0.3));\n",
              "      fill: #FFFFFF;\n",
              "    }\n",
              "  </style>\n",
              "\n",
              "      <script>\n",
              "        const buttonEl =\n",
              "          document.querySelector('#df-63501e4c-6371-4f7e-bf5a-5ebef44763df button.colab-df-convert');\n",
              "        buttonEl.style.display =\n",
              "          google.colab.kernel.accessAllowed ? 'block' : 'none';\n",
              "\n",
              "        async function convertToInteractive(key) {\n",
              "          const element = document.querySelector('#df-63501e4c-6371-4f7e-bf5a-5ebef44763df');\n",
              "          const dataTable =\n",
              "            await google.colab.kernel.invokeFunction('convertToInteractive',\n",
              "                                                     [key], {});\n",
              "          if (!dataTable) return;\n",
              "\n",
              "          const docLinkHtml = 'Like what you see? Visit the ' +\n",
              "            '<a target=\"_blank\" href=https://colab.research.google.com/notebooks/data_table.ipynb>data table notebook</a>'\n",
              "            + ' to learn more about interactive tables.';\n",
              "          element.innerHTML = '';\n",
              "          dataTable['output_type'] = 'display_data';\n",
              "          await google.colab.output.renderOutput(dataTable, element);\n",
              "          const docLink = document.createElement('div');\n",
              "          docLink.innerHTML = docLinkHtml;\n",
              "          element.appendChild(docLink);\n",
              "        }\n",
              "      </script>\n",
              "    </div>\n",
              "  </div>\n",
              "  "
            ],
            "text/plain": [
              "      CIC0  SM1_Dz(Z)  GATS1i  NdsCH  NdssC  MLOGP  LC50 [-LOG(mol/L)]\n",
              "903  2.801      0.728   2.226      0      2  0.736               3.109\n",
              "904  3.652      0.872   0.867      2      3  3.983               4.040\n",
              "905  3.763      0.916   0.878      0      6  2.918               4.818\n",
              "906  2.831      1.393   1.077      0      1  0.906               5.317\n",
              "907  4.057      1.032   1.183      1      3  4.754               8.201"
            ]
          },
          "metadata": {},
          "execution_count": 7
        }
      ],
      "source": [
        "data.tail()"
      ]
    },
    {
      "cell_type": "code",
      "execution_count": null,
      "metadata": {
        "colab": {
          "base_uri": "https://localhost:8080/"
        },
        "id": "0cdAJ-zVZbwc",
        "outputId": "565e2f2a-502f-41cc-b948-49998f6cb3ee"
      },
      "outputs": [
        {
          "output_type": "execute_result",
          "data": {
            "text/plain": [
              "CIC0                  0\n",
              "SM1_Dz(Z)             0\n",
              "GATS1i                0\n",
              "NdsCH                 0\n",
              "NdssC                 0\n",
              "MLOGP                 0\n",
              "LC50 [-LOG(mol/L)]    0\n",
              "dtype: int64"
            ]
          },
          "metadata": {},
          "execution_count": 8
        }
      ],
      "source": [
        "data.isnull().sum()"
      ]
    },
    {
      "cell_type": "code",
      "execution_count": null,
      "metadata": {
        "colab": {
          "base_uri": "https://localhost:8080/",
          "height": 300
        },
        "id": "hvcT3bp09_X3",
        "outputId": "45a0046a-ace4-4b06-f361-8b1744bd0687"
      },
      "outputs": [
        {
          "output_type": "execute_result",
          "data": {
            "text/html": [
              "\n",
              "  <div id=\"df-bdcb5231-6b9e-4395-b3e2-c44cad454add\">\n",
              "    <div class=\"colab-df-container\">\n",
              "      <div>\n",
              "<style scoped>\n",
              "    .dataframe tbody tr th:only-of-type {\n",
              "        vertical-align: middle;\n",
              "    }\n",
              "\n",
              "    .dataframe tbody tr th {\n",
              "        vertical-align: top;\n",
              "    }\n",
              "\n",
              "    .dataframe thead th {\n",
              "        text-align: right;\n",
              "    }\n",
              "</style>\n",
              "<table border=\"1\" class=\"dataframe\">\n",
              "  <thead>\n",
              "    <tr style=\"text-align: right;\">\n",
              "      <th></th>\n",
              "      <th>CIC0</th>\n",
              "      <th>SM1_Dz(Z)</th>\n",
              "      <th>GATS1i</th>\n",
              "      <th>NdsCH</th>\n",
              "      <th>NdssC</th>\n",
              "      <th>MLOGP</th>\n",
              "      <th>LC50 [-LOG(mol/L)]</th>\n",
              "    </tr>\n",
              "  </thead>\n",
              "  <tbody>\n",
              "    <tr>\n",
              "      <th>count</th>\n",
              "      <td>908.000000</td>\n",
              "      <td>908.000000</td>\n",
              "      <td>908.000000</td>\n",
              "      <td>908.000000</td>\n",
              "      <td>908.000000</td>\n",
              "      <td>908.000000</td>\n",
              "      <td>908.000000</td>\n",
              "    </tr>\n",
              "    <tr>\n",
              "      <th>mean</th>\n",
              "      <td>2.898129</td>\n",
              "      <td>0.628468</td>\n",
              "      <td>1.293591</td>\n",
              "      <td>0.229075</td>\n",
              "      <td>0.485683</td>\n",
              "      <td>2.109285</td>\n",
              "      <td>4.064431</td>\n",
              "    </tr>\n",
              "    <tr>\n",
              "      <th>std</th>\n",
              "      <td>0.756088</td>\n",
              "      <td>0.428459</td>\n",
              "      <td>0.394303</td>\n",
              "      <td>0.605335</td>\n",
              "      <td>0.861279</td>\n",
              "      <td>1.433181</td>\n",
              "      <td>1.455698</td>\n",
              "    </tr>\n",
              "    <tr>\n",
              "      <th>min</th>\n",
              "      <td>0.667000</td>\n",
              "      <td>0.000000</td>\n",
              "      <td>0.396000</td>\n",
              "      <td>0.000000</td>\n",
              "      <td>0.000000</td>\n",
              "      <td>-2.884000</td>\n",
              "      <td>0.053000</td>\n",
              "    </tr>\n",
              "    <tr>\n",
              "      <th>25%</th>\n",
              "      <td>2.347000</td>\n",
              "      <td>0.223000</td>\n",
              "      <td>0.950750</td>\n",
              "      <td>0.000000</td>\n",
              "      <td>0.000000</td>\n",
              "      <td>1.209000</td>\n",
              "      <td>3.151750</td>\n",
              "    </tr>\n",
              "    <tr>\n",
              "      <th>50%</th>\n",
              "      <td>2.934000</td>\n",
              "      <td>0.570000</td>\n",
              "      <td>1.240500</td>\n",
              "      <td>0.000000</td>\n",
              "      <td>0.000000</td>\n",
              "      <td>2.127000</td>\n",
              "      <td>3.987500</td>\n",
              "    </tr>\n",
              "    <tr>\n",
              "      <th>75%</th>\n",
              "      <td>3.407000</td>\n",
              "      <td>0.892750</td>\n",
              "      <td>1.562250</td>\n",
              "      <td>0.000000</td>\n",
              "      <td>1.000000</td>\n",
              "      <td>3.105000</td>\n",
              "      <td>4.907500</td>\n",
              "    </tr>\n",
              "    <tr>\n",
              "      <th>max</th>\n",
              "      <td>5.926000</td>\n",
              "      <td>2.171000</td>\n",
              "      <td>2.920000</td>\n",
              "      <td>4.000000</td>\n",
              "      <td>6.000000</td>\n",
              "      <td>6.515000</td>\n",
              "      <td>9.612000</td>\n",
              "    </tr>\n",
              "  </tbody>\n",
              "</table>\n",
              "</div>\n",
              "      <button class=\"colab-df-convert\" onclick=\"convertToInteractive('df-bdcb5231-6b9e-4395-b3e2-c44cad454add')\"\n",
              "              title=\"Convert this dataframe to an interactive table.\"\n",
              "              style=\"display:none;\">\n",
              "        \n",
              "  <svg xmlns=\"http://www.w3.org/2000/svg\" height=\"24px\"viewBox=\"0 0 24 24\"\n",
              "       width=\"24px\">\n",
              "    <path d=\"M0 0h24v24H0V0z\" fill=\"none\"/>\n",
              "    <path d=\"M18.56 5.44l.94 2.06.94-2.06 2.06-.94-2.06-.94-.94-2.06-.94 2.06-2.06.94zm-11 1L8.5 8.5l.94-2.06 2.06-.94-2.06-.94L8.5 2.5l-.94 2.06-2.06.94zm10 10l.94 2.06.94-2.06 2.06-.94-2.06-.94-.94-2.06-.94 2.06-2.06.94z\"/><path d=\"M17.41 7.96l-1.37-1.37c-.4-.4-.92-.59-1.43-.59-.52 0-1.04.2-1.43.59L10.3 9.45l-7.72 7.72c-.78.78-.78 2.05 0 2.83L4 21.41c.39.39.9.59 1.41.59.51 0 1.02-.2 1.41-.59l7.78-7.78 2.81-2.81c.8-.78.8-2.07 0-2.86zM5.41 20L4 18.59l7.72-7.72 1.47 1.35L5.41 20z\"/>\n",
              "  </svg>\n",
              "      </button>\n",
              "      \n",
              "  <style>\n",
              "    .colab-df-container {\n",
              "      display:flex;\n",
              "      flex-wrap:wrap;\n",
              "      gap: 12px;\n",
              "    }\n",
              "\n",
              "    .colab-df-convert {\n",
              "      background-color: #E8F0FE;\n",
              "      border: none;\n",
              "      border-radius: 50%;\n",
              "      cursor: pointer;\n",
              "      display: none;\n",
              "      fill: #1967D2;\n",
              "      height: 32px;\n",
              "      padding: 0 0 0 0;\n",
              "      width: 32px;\n",
              "    }\n",
              "\n",
              "    .colab-df-convert:hover {\n",
              "      background-color: #E2EBFA;\n",
              "      box-shadow: 0px 1px 2px rgba(60, 64, 67, 0.3), 0px 1px 3px 1px rgba(60, 64, 67, 0.15);\n",
              "      fill: #174EA6;\n",
              "    }\n",
              "\n",
              "    [theme=dark] .colab-df-convert {\n",
              "      background-color: #3B4455;\n",
              "      fill: #D2E3FC;\n",
              "    }\n",
              "\n",
              "    [theme=dark] .colab-df-convert:hover {\n",
              "      background-color: #434B5C;\n",
              "      box-shadow: 0px 1px 3px 1px rgba(0, 0, 0, 0.15);\n",
              "      filter: drop-shadow(0px 1px 2px rgba(0, 0, 0, 0.3));\n",
              "      fill: #FFFFFF;\n",
              "    }\n",
              "  </style>\n",
              "\n",
              "      <script>\n",
              "        const buttonEl =\n",
              "          document.querySelector('#df-bdcb5231-6b9e-4395-b3e2-c44cad454add button.colab-df-convert');\n",
              "        buttonEl.style.display =\n",
              "          google.colab.kernel.accessAllowed ? 'block' : 'none';\n",
              "\n",
              "        async function convertToInteractive(key) {\n",
              "          const element = document.querySelector('#df-bdcb5231-6b9e-4395-b3e2-c44cad454add');\n",
              "          const dataTable =\n",
              "            await google.colab.kernel.invokeFunction('convertToInteractive',\n",
              "                                                     [key], {});\n",
              "          if (!dataTable) return;\n",
              "\n",
              "          const docLinkHtml = 'Like what you see? Visit the ' +\n",
              "            '<a target=\"_blank\" href=https://colab.research.google.com/notebooks/data_table.ipynb>data table notebook</a>'\n",
              "            + ' to learn more about interactive tables.';\n",
              "          element.innerHTML = '';\n",
              "          dataTable['output_type'] = 'display_data';\n",
              "          await google.colab.output.renderOutput(dataTable, element);\n",
              "          const docLink = document.createElement('div');\n",
              "          docLink.innerHTML = docLinkHtml;\n",
              "          element.appendChild(docLink);\n",
              "        }\n",
              "      </script>\n",
              "    </div>\n",
              "  </div>\n",
              "  "
            ],
            "text/plain": [
              "             CIC0   SM1_Dz(Z)  ...       MLOGP  LC50 [-LOG(mol/L)]\n",
              "count  908.000000  908.000000  ...  908.000000          908.000000\n",
              "mean     2.898129    0.628468  ...    2.109285            4.064431\n",
              "std      0.756088    0.428459  ...    1.433181            1.455698\n",
              "min      0.667000    0.000000  ...   -2.884000            0.053000\n",
              "25%      2.347000    0.223000  ...    1.209000            3.151750\n",
              "50%      2.934000    0.570000  ...    2.127000            3.987500\n",
              "75%      3.407000    0.892750  ...    3.105000            4.907500\n",
              "max      5.926000    2.171000  ...    6.515000            9.612000\n",
              "\n",
              "[8 rows x 7 columns]"
            ]
          },
          "metadata": {},
          "execution_count": 9
        }
      ],
      "source": [
        "\n",
        "data.describe()"
      ]
    },
    {
      "cell_type": "code",
      "source": [
        "\n",
        "data.std()"
      ],
      "metadata": {
        "colab": {
          "base_uri": "https://localhost:8080/"
        },
        "id": "7gAPOaD0q4b3",
        "outputId": "0356efd9-ca97-4ad8-cd0f-d4fd4e6d7435"
      },
      "execution_count": null,
      "outputs": [
        {
          "output_type": "execute_result",
          "data": {
            "text/plain": [
              "CIC0                  0.756088\n",
              "SM1_Dz(Z)             0.428459\n",
              "GATS1i                0.394303\n",
              "NdsCH                 0.605335\n",
              "NdssC                 0.861279\n",
              "MLOGP                 1.433181\n",
              "LC50 [-LOG(mol/L)]    1.455698\n",
              "dtype: float64"
            ]
          },
          "metadata": {},
          "execution_count": 10
        }
      ]
    },
    {
      "cell_type": "code",
      "source": [
        "from sklearn.preprocessing import StandardScaler\n",
        "scaler = StandardScaler()\n",
        "scaled_data=scaler.fit_transform(data)\n",
        "print(scaled_data)"
      ],
      "metadata": {
        "colab": {
          "base_uri": "https://localhost:8080/"
        },
        "id": "Bd4vBxqphtXm",
        "outputId": "3890735f-ea88-40ea-8ed6-4ab07c241e8b"
      },
      "execution_count": null,
      "outputs": [
        {
          "output_type": "stream",
          "name": "stdout",
          "text": [
            "[[ 0.47887329  0.46828848  0.97036948 ...  0.59748428 -0.45817453\n",
            "  -0.20237219]\n",
            " [-0.93840825 -0.11318414 -1.09263435 ... -0.56421963 -0.53147852\n",
            "  -0.652576  ]\n",
            " [-1.02310108  0.02225928 -1.173835   ... -0.56421963 -0.53147852\n",
            "  -0.36664503]\n",
            " ...\n",
            " [ 1.14450599  0.67145361 -1.05457155 ...  6.40600388  0.56459064\n",
            "   0.5179539 ]\n",
            " [-0.08883332  1.78535897 -0.54960505 ...  0.59748428 -0.8400534\n",
            "   0.86093359]\n",
            " [ 1.53356366  0.94234045 -0.28062792 ...  2.92089212  1.84636323\n",
            "   2.84320501]]\n"
          ]
        }
      ]
    },
    {
      "cell_type": "code",
      "source": [
        "\n",
        "df = pd.DataFrame(scaled_data)\n",
        "df.head()\n",
        "df.shape"
      ],
      "metadata": {
        "colab": {
          "base_uri": "https://localhost:8080/"
        },
        "id": "7rhTrZJCh-98",
        "outputId": "bdc7906b-6cf0-4bf0-a760-428208239c25"
      },
      "execution_count": null,
      "outputs": [
        {
          "output_type": "execute_result",
          "data": {
            "text/plain": [
              "(908, 7)"
            ]
          },
          "metadata": {},
          "execution_count": 38
        }
      ]
    },
    {
      "cell_type": "code",
      "source": [
        "df.columns = column_names\n",
        "df"
      ],
      "metadata": {
        "id": "dPRVJOpUi5CZ",
        "colab": {
          "base_uri": "https://localhost:8080/",
          "height": 423
        },
        "outputId": "8e64b26b-e54e-484e-93cc-fe9648904384"
      },
      "execution_count": null,
      "outputs": [
        {
          "output_type": "execute_result",
          "data": {
            "text/html": [
              "\n",
              "  <div id=\"df-121a2bd0-9706-4486-9ea7-5229b10cb700\">\n",
              "    <div class=\"colab-df-container\">\n",
              "      <div>\n",
              "<style scoped>\n",
              "    .dataframe tbody tr th:only-of-type {\n",
              "        vertical-align: middle;\n",
              "    }\n",
              "\n",
              "    .dataframe tbody tr th {\n",
              "        vertical-align: top;\n",
              "    }\n",
              "\n",
              "    .dataframe thead th {\n",
              "        text-align: right;\n",
              "    }\n",
              "</style>\n",
              "<table border=\"1\" class=\"dataframe\">\n",
              "  <thead>\n",
              "    <tr style=\"text-align: right;\">\n",
              "      <th></th>\n",
              "      <th>CIC0</th>\n",
              "      <th>SM1_Dz(Z)</th>\n",
              "      <th>GATS1i</th>\n",
              "      <th>NdsCH</th>\n",
              "      <th>NdssC</th>\n",
              "      <th>MLOGP</th>\n",
              "      <th>LC50 [-LOG(mol/L)]</th>\n",
              "    </tr>\n",
              "  </thead>\n",
              "  <tbody>\n",
              "    <tr>\n",
              "      <th>0</th>\n",
              "      <td>0.478873</td>\n",
              "      <td>0.468288</td>\n",
              "      <td>0.970369</td>\n",
              "      <td>-0.378635</td>\n",
              "      <td>0.597484</td>\n",
              "      <td>-0.458175</td>\n",
              "      <td>-0.202372</td>\n",
              "    </tr>\n",
              "    <tr>\n",
              "      <th>1</th>\n",
              "      <td>-0.938408</td>\n",
              "      <td>-0.113184</td>\n",
              "      <td>-1.092634</td>\n",
              "      <td>-0.378635</td>\n",
              "      <td>-0.564220</td>\n",
              "      <td>-0.531479</td>\n",
              "      <td>-0.652576</td>\n",
              "    </tr>\n",
              "    <tr>\n",
              "      <th>2</th>\n",
              "      <td>-1.023101</td>\n",
              "      <td>0.022259</td>\n",
              "      <td>-1.173835</td>\n",
              "      <td>-0.378635</td>\n",
              "      <td>-0.564220</td>\n",
              "      <td>-0.531479</td>\n",
              "      <td>-0.366645</td>\n",
              "    </tr>\n",
              "    <tr>\n",
              "      <th>3</th>\n",
              "      <td>0.170538</td>\n",
              "      <td>-0.694657</td>\n",
              "      <td>0.452715</td>\n",
              "      <td>1.274253</td>\n",
              "      <td>-0.564220</td>\n",
              "      <td>-0.211035</td>\n",
              "      <td>-0.381079</td>\n",
              "    </tr>\n",
              "    <tr>\n",
              "      <th>4</th>\n",
              "      <td>-1.064124</td>\n",
              "      <td>0.463618</td>\n",
              "      <td>-1.100247</td>\n",
              "      <td>-0.378635</td>\n",
              "      <td>-0.564220</td>\n",
              "      <td>-0.155883</td>\n",
              "      <td>0.911109</td>\n",
              "    </tr>\n",
              "    <tr>\n",
              "      <th>...</th>\n",
              "      <td>...</td>\n",
              "      <td>...</td>\n",
              "      <td>...</td>\n",
              "      <td>...</td>\n",
              "      <td>...</td>\n",
              "      <td>...</td>\n",
              "      <td>...</td>\n",
              "    </tr>\n",
              "    <tr>\n",
              "      <th>903</th>\n",
              "      <td>-0.128533</td>\n",
              "      <td>0.232430</td>\n",
              "      <td>2.366006</td>\n",
              "      <td>-0.378635</td>\n",
              "      <td>1.759188</td>\n",
              "      <td>-0.958736</td>\n",
              "      <td>-0.656700</td>\n",
              "    </tr>\n",
              "    <tr>\n",
              "      <th>904</th>\n",
              "      <td>0.997617</td>\n",
              "      <td>0.568703</td>\n",
              "      <td>-1.082484</td>\n",
              "      <td>2.927141</td>\n",
              "      <td>2.920892</td>\n",
              "      <td>1.308103</td>\n",
              "      <td>-0.016792</td>\n",
              "    </tr>\n",
              "    <tr>\n",
              "      <th>905</th>\n",
              "      <td>1.144506</td>\n",
              "      <td>0.671454</td>\n",
              "      <td>-1.054572</td>\n",
              "      <td>-0.378635</td>\n",
              "      <td>6.406004</td>\n",
              "      <td>0.564591</td>\n",
              "      <td>0.517954</td>\n",
              "    </tr>\n",
              "    <tr>\n",
              "      <th>906</th>\n",
              "      <td>-0.088833</td>\n",
              "      <td>1.785359</td>\n",
              "      <td>-0.549605</td>\n",
              "      <td>-0.378635</td>\n",
              "      <td>0.597484</td>\n",
              "      <td>-0.840053</td>\n",
              "      <td>0.860934</td>\n",
              "    </tr>\n",
              "    <tr>\n",
              "      <th>907</th>\n",
              "      <td>1.533564</td>\n",
              "      <td>0.942340</td>\n",
              "      <td>-0.280628</td>\n",
              "      <td>1.274253</td>\n",
              "      <td>2.920892</td>\n",
              "      <td>1.846363</td>\n",
              "      <td>2.843205</td>\n",
              "    </tr>\n",
              "  </tbody>\n",
              "</table>\n",
              "<p>908 rows × 7 columns</p>\n",
              "</div>\n",
              "      <button class=\"colab-df-convert\" onclick=\"convertToInteractive('df-121a2bd0-9706-4486-9ea7-5229b10cb700')\"\n",
              "              title=\"Convert this dataframe to an interactive table.\"\n",
              "              style=\"display:none;\">\n",
              "        \n",
              "  <svg xmlns=\"http://www.w3.org/2000/svg\" height=\"24px\"viewBox=\"0 0 24 24\"\n",
              "       width=\"24px\">\n",
              "    <path d=\"M0 0h24v24H0V0z\" fill=\"none\"/>\n",
              "    <path d=\"M18.56 5.44l.94 2.06.94-2.06 2.06-.94-2.06-.94-.94-2.06-.94 2.06-2.06.94zm-11 1L8.5 8.5l.94-2.06 2.06-.94-2.06-.94L8.5 2.5l-.94 2.06-2.06.94zm10 10l.94 2.06.94-2.06 2.06-.94-2.06-.94-.94-2.06-.94 2.06-2.06.94z\"/><path d=\"M17.41 7.96l-1.37-1.37c-.4-.4-.92-.59-1.43-.59-.52 0-1.04.2-1.43.59L10.3 9.45l-7.72 7.72c-.78.78-.78 2.05 0 2.83L4 21.41c.39.39.9.59 1.41.59.51 0 1.02-.2 1.41-.59l7.78-7.78 2.81-2.81c.8-.78.8-2.07 0-2.86zM5.41 20L4 18.59l7.72-7.72 1.47 1.35L5.41 20z\"/>\n",
              "  </svg>\n",
              "      </button>\n",
              "      \n",
              "  <style>\n",
              "    .colab-df-container {\n",
              "      display:flex;\n",
              "      flex-wrap:wrap;\n",
              "      gap: 12px;\n",
              "    }\n",
              "\n",
              "    .colab-df-convert {\n",
              "      background-color: #E8F0FE;\n",
              "      border: none;\n",
              "      border-radius: 50%;\n",
              "      cursor: pointer;\n",
              "      display: none;\n",
              "      fill: #1967D2;\n",
              "      height: 32px;\n",
              "      padding: 0 0 0 0;\n",
              "      width: 32px;\n",
              "    }\n",
              "\n",
              "    .colab-df-convert:hover {\n",
              "      background-color: #E2EBFA;\n",
              "      box-shadow: 0px 1px 2px rgba(60, 64, 67, 0.3), 0px 1px 3px 1px rgba(60, 64, 67, 0.15);\n",
              "      fill: #174EA6;\n",
              "    }\n",
              "\n",
              "    [theme=dark] .colab-df-convert {\n",
              "      background-color: #3B4455;\n",
              "      fill: #D2E3FC;\n",
              "    }\n",
              "\n",
              "    [theme=dark] .colab-df-convert:hover {\n",
              "      background-color: #434B5C;\n",
              "      box-shadow: 0px 1px 3px 1px rgba(0, 0, 0, 0.15);\n",
              "      filter: drop-shadow(0px 1px 2px rgba(0, 0, 0, 0.3));\n",
              "      fill: #FFFFFF;\n",
              "    }\n",
              "  </style>\n",
              "\n",
              "      <script>\n",
              "        const buttonEl =\n",
              "          document.querySelector('#df-121a2bd0-9706-4486-9ea7-5229b10cb700 button.colab-df-convert');\n",
              "        buttonEl.style.display =\n",
              "          google.colab.kernel.accessAllowed ? 'block' : 'none';\n",
              "\n",
              "        async function convertToInteractive(key) {\n",
              "          const element = document.querySelector('#df-121a2bd0-9706-4486-9ea7-5229b10cb700');\n",
              "          const dataTable =\n",
              "            await google.colab.kernel.invokeFunction('convertToInteractive',\n",
              "                                                     [key], {});\n",
              "          if (!dataTable) return;\n",
              "\n",
              "          const docLinkHtml = 'Like what you see? Visit the ' +\n",
              "            '<a target=\"_blank\" href=https://colab.research.google.com/notebooks/data_table.ipynb>data table notebook</a>'\n",
              "            + ' to learn more about interactive tables.';\n",
              "          element.innerHTML = '';\n",
              "          dataTable['output_type'] = 'display_data';\n",
              "          await google.colab.output.renderOutput(dataTable, element);\n",
              "          const docLink = document.createElement('div');\n",
              "          docLink.innerHTML = docLinkHtml;\n",
              "          element.appendChild(docLink);\n",
              "        }\n",
              "      </script>\n",
              "    </div>\n",
              "  </div>\n",
              "  "
            ],
            "text/plain": [
              "         CIC0  SM1_Dz(Z)    GATS1i  ...     NdssC     MLOGP  LC50 [-LOG(mol/L)]\n",
              "0    0.478873   0.468288  0.970369  ...  0.597484 -0.458175           -0.202372\n",
              "1   -0.938408  -0.113184 -1.092634  ... -0.564220 -0.531479           -0.652576\n",
              "2   -1.023101   0.022259 -1.173835  ... -0.564220 -0.531479           -0.366645\n",
              "3    0.170538  -0.694657  0.452715  ... -0.564220 -0.211035           -0.381079\n",
              "4   -1.064124   0.463618 -1.100247  ... -0.564220 -0.155883            0.911109\n",
              "..        ...        ...       ...  ...       ...       ...                 ...\n",
              "903 -0.128533   0.232430  2.366006  ...  1.759188 -0.958736           -0.656700\n",
              "904  0.997617   0.568703 -1.082484  ...  2.920892  1.308103           -0.016792\n",
              "905  1.144506   0.671454 -1.054572  ...  6.406004  0.564591            0.517954\n",
              "906 -0.088833   1.785359 -0.549605  ...  0.597484 -0.840053            0.860934\n",
              "907  1.533564   0.942340 -0.280628  ...  2.920892  1.846363            2.843205\n",
              "\n",
              "[908 rows x 7 columns]"
            ]
          },
          "metadata": {},
          "execution_count": 39
        }
      ]
    },
    {
      "cell_type": "code",
      "source": [
        "X = df.drop(['LC50 [-LOG(mol/L)]'], axis=1)"
      ],
      "metadata": {
        "id": "q3zoBDyCjW72"
      },
      "execution_count": null,
      "outputs": []
    },
    {
      "cell_type": "code",
      "source": [
        "X.head()"
      ],
      "metadata": {
        "id": "sqZmxtuzjgOt",
        "colab": {
          "base_uri": "https://localhost:8080/",
          "height": 206
        },
        "outputId": "21130852-ec5a-4afe-df6e-37b39e0024e6"
      },
      "execution_count": null,
      "outputs": [
        {
          "output_type": "execute_result",
          "data": {
            "text/html": [
              "\n",
              "  <div id=\"df-2708a75c-4329-43be-aab5-9dca143fac81\">\n",
              "    <div class=\"colab-df-container\">\n",
              "      <div>\n",
              "<style scoped>\n",
              "    .dataframe tbody tr th:only-of-type {\n",
              "        vertical-align: middle;\n",
              "    }\n",
              "\n",
              "    .dataframe tbody tr th {\n",
              "        vertical-align: top;\n",
              "    }\n",
              "\n",
              "    .dataframe thead th {\n",
              "        text-align: right;\n",
              "    }\n",
              "</style>\n",
              "<table border=\"1\" class=\"dataframe\">\n",
              "  <thead>\n",
              "    <tr style=\"text-align: right;\">\n",
              "      <th></th>\n",
              "      <th>CIC0</th>\n",
              "      <th>SM1_Dz(Z)</th>\n",
              "      <th>GATS1i</th>\n",
              "      <th>NdsCH</th>\n",
              "      <th>NdssC</th>\n",
              "      <th>MLOGP</th>\n",
              "    </tr>\n",
              "  </thead>\n",
              "  <tbody>\n",
              "    <tr>\n",
              "      <th>0</th>\n",
              "      <td>0.478873</td>\n",
              "      <td>0.468288</td>\n",
              "      <td>0.970369</td>\n",
              "      <td>-0.378635</td>\n",
              "      <td>0.597484</td>\n",
              "      <td>-0.458175</td>\n",
              "    </tr>\n",
              "    <tr>\n",
              "      <th>1</th>\n",
              "      <td>-0.938408</td>\n",
              "      <td>-0.113184</td>\n",
              "      <td>-1.092634</td>\n",
              "      <td>-0.378635</td>\n",
              "      <td>-0.564220</td>\n",
              "      <td>-0.531479</td>\n",
              "    </tr>\n",
              "    <tr>\n",
              "      <th>2</th>\n",
              "      <td>-1.023101</td>\n",
              "      <td>0.022259</td>\n",
              "      <td>-1.173835</td>\n",
              "      <td>-0.378635</td>\n",
              "      <td>-0.564220</td>\n",
              "      <td>-0.531479</td>\n",
              "    </tr>\n",
              "    <tr>\n",
              "      <th>3</th>\n",
              "      <td>0.170538</td>\n",
              "      <td>-0.694657</td>\n",
              "      <td>0.452715</td>\n",
              "      <td>1.274253</td>\n",
              "      <td>-0.564220</td>\n",
              "      <td>-0.211035</td>\n",
              "    </tr>\n",
              "    <tr>\n",
              "      <th>4</th>\n",
              "      <td>-1.064124</td>\n",
              "      <td>0.463618</td>\n",
              "      <td>-1.100247</td>\n",
              "      <td>-0.378635</td>\n",
              "      <td>-0.564220</td>\n",
              "      <td>-0.155883</td>\n",
              "    </tr>\n",
              "  </tbody>\n",
              "</table>\n",
              "</div>\n",
              "      <button class=\"colab-df-convert\" onclick=\"convertToInteractive('df-2708a75c-4329-43be-aab5-9dca143fac81')\"\n",
              "              title=\"Convert this dataframe to an interactive table.\"\n",
              "              style=\"display:none;\">\n",
              "        \n",
              "  <svg xmlns=\"http://www.w3.org/2000/svg\" height=\"24px\"viewBox=\"0 0 24 24\"\n",
              "       width=\"24px\">\n",
              "    <path d=\"M0 0h24v24H0V0z\" fill=\"none\"/>\n",
              "    <path d=\"M18.56 5.44l.94 2.06.94-2.06 2.06-.94-2.06-.94-.94-2.06-.94 2.06-2.06.94zm-11 1L8.5 8.5l.94-2.06 2.06-.94-2.06-.94L8.5 2.5l-.94 2.06-2.06.94zm10 10l.94 2.06.94-2.06 2.06-.94-2.06-.94-.94-2.06-.94 2.06-2.06.94z\"/><path d=\"M17.41 7.96l-1.37-1.37c-.4-.4-.92-.59-1.43-.59-.52 0-1.04.2-1.43.59L10.3 9.45l-7.72 7.72c-.78.78-.78 2.05 0 2.83L4 21.41c.39.39.9.59 1.41.59.51 0 1.02-.2 1.41-.59l7.78-7.78 2.81-2.81c.8-.78.8-2.07 0-2.86zM5.41 20L4 18.59l7.72-7.72 1.47 1.35L5.41 20z\"/>\n",
              "  </svg>\n",
              "      </button>\n",
              "      \n",
              "  <style>\n",
              "    .colab-df-container {\n",
              "      display:flex;\n",
              "      flex-wrap:wrap;\n",
              "      gap: 12px;\n",
              "    }\n",
              "\n",
              "    .colab-df-convert {\n",
              "      background-color: #E8F0FE;\n",
              "      border: none;\n",
              "      border-radius: 50%;\n",
              "      cursor: pointer;\n",
              "      display: none;\n",
              "      fill: #1967D2;\n",
              "      height: 32px;\n",
              "      padding: 0 0 0 0;\n",
              "      width: 32px;\n",
              "    }\n",
              "\n",
              "    .colab-df-convert:hover {\n",
              "      background-color: #E2EBFA;\n",
              "      box-shadow: 0px 1px 2px rgba(60, 64, 67, 0.3), 0px 1px 3px 1px rgba(60, 64, 67, 0.15);\n",
              "      fill: #174EA6;\n",
              "    }\n",
              "\n",
              "    [theme=dark] .colab-df-convert {\n",
              "      background-color: #3B4455;\n",
              "      fill: #D2E3FC;\n",
              "    }\n",
              "\n",
              "    [theme=dark] .colab-df-convert:hover {\n",
              "      background-color: #434B5C;\n",
              "      box-shadow: 0px 1px 3px 1px rgba(0, 0, 0, 0.15);\n",
              "      filter: drop-shadow(0px 1px 2px rgba(0, 0, 0, 0.3));\n",
              "      fill: #FFFFFF;\n",
              "    }\n",
              "  </style>\n",
              "\n",
              "      <script>\n",
              "        const buttonEl =\n",
              "          document.querySelector('#df-2708a75c-4329-43be-aab5-9dca143fac81 button.colab-df-convert');\n",
              "        buttonEl.style.display =\n",
              "          google.colab.kernel.accessAllowed ? 'block' : 'none';\n",
              "\n",
              "        async function convertToInteractive(key) {\n",
              "          const element = document.querySelector('#df-2708a75c-4329-43be-aab5-9dca143fac81');\n",
              "          const dataTable =\n",
              "            await google.colab.kernel.invokeFunction('convertToInteractive',\n",
              "                                                     [key], {});\n",
              "          if (!dataTable) return;\n",
              "\n",
              "          const docLinkHtml = 'Like what you see? Visit the ' +\n",
              "            '<a target=\"_blank\" href=https://colab.research.google.com/notebooks/data_table.ipynb>data table notebook</a>'\n",
              "            + ' to learn more about interactive tables.';\n",
              "          element.innerHTML = '';\n",
              "          dataTable['output_type'] = 'display_data';\n",
              "          await google.colab.output.renderOutput(dataTable, element);\n",
              "          const docLink = document.createElement('div');\n",
              "          docLink.innerHTML = docLinkHtml;\n",
              "          element.appendChild(docLink);\n",
              "        }\n",
              "      </script>\n",
              "    </div>\n",
              "  </div>\n",
              "  "
            ],
            "text/plain": [
              "       CIC0  SM1_Dz(Z)    GATS1i     NdsCH     NdssC     MLOGP\n",
              "0  0.478873   0.468288  0.970369 -0.378635  0.597484 -0.458175\n",
              "1 -0.938408  -0.113184 -1.092634 -0.378635 -0.564220 -0.531479\n",
              "2 -1.023101   0.022259 -1.173835 -0.378635 -0.564220 -0.531479\n",
              "3  0.170538  -0.694657  0.452715  1.274253 -0.564220 -0.211035\n",
              "4 -1.064124   0.463618 -1.100247 -0.378635 -0.564220 -0.155883"
            ]
          },
          "metadata": {},
          "execution_count": 41
        }
      ]
    },
    {
      "cell_type": "code",
      "source": [
        "y = df['LC50 [-LOG(mol/L)]']\n",
        "y.head()"
      ],
      "metadata": {
        "colab": {
          "base_uri": "https://localhost:8080/"
        },
        "id": "vcJzezCtl1rQ",
        "outputId": "58588355-3940-42e3-e118-c35ea6c185aa"
      },
      "execution_count": null,
      "outputs": [
        {
          "output_type": "execute_result",
          "data": {
            "text/plain": [
              "0   -0.202372\n",
              "1   -0.652576\n",
              "2   -0.366645\n",
              "3   -0.381079\n",
              "4    0.911109\n",
              "Name: LC50 [-LOG(mol/L)], dtype: float64"
            ]
          },
          "metadata": {},
          "execution_count": 42
        }
      ]
    },
    {
      "cell_type": "code",
      "source": [
        "model = LinearRegression( fit_intercept= False,n_jobs=-1, positive= False) \n",
        "X_train, X_test, y_train, y_test = train_test_split(X,y,test_size=0.5,random_state=1)"
      ],
      "metadata": {
        "id": "9A4tuqHNl6hx"
      },
      "execution_count": 193,
      "outputs": []
    },
    {
      "cell_type": "code",
      "source": [
        "\n",
        "params = {\n",
        "   \"fit_intercept\":[True,False],\n",
        "    \"positive\":[True,False]\n",
        "}"
      ],
      "metadata": {
        "id": "lvOthmuGqlUV"
      },
      "execution_count": 194,
      "outputs": []
    },
    {
      "cell_type": "code",
      "source": [
        "model.fit(X_train, y_train)"
      ],
      "metadata": {
        "colab": {
          "base_uri": "https://localhost:8080/"
        },
        "id": "Q77jiGtBmB9J",
        "outputId": "17fcb22b-8130-4481-e621-1497b20974b5"
      },
      "execution_count": 195,
      "outputs": [
        {
          "output_type": "execute_result",
          "data": {
            "text/plain": [
              "LinearRegression(fit_intercept=False, n_jobs=-1)"
            ]
          },
          "metadata": {},
          "execution_count": 195
        }
      ]
    },
    {
      "cell_type": "code",
      "source": [
        "y_pred = model.predict(X_test)\n",
        "print(y_pred)"
      ],
      "metadata": {
        "colab": {
          "base_uri": "https://localhost:8080/"
        },
        "id": "3cT4aDPCmEa0",
        "outputId": "bc2f522f-347a-42b3-d187-50204917b128"
      },
      "execution_count": 196,
      "outputs": [
        {
          "output_type": "stream",
          "name": "stdout",
          "text": [
            "[-1.30888142e+00 -1.14515461e+00 -7.43578893e-02 -3.86163656e-02\n",
            " -1.66249795e+00 -9.10823462e-01 -1.09903761e+00  5.88014731e-01\n",
            " -7.66976357e-01  8.48455994e-02 -8.95432814e-03 -3.23642891e-02\n",
            " -1.07580922e+00  6.43199583e-01 -1.42620190e-01 -9.57624972e-01\n",
            "  4.28389084e-01 -1.94068431e-01  1.88082275e+00 -9.53356413e-01\n",
            " -1.70260121e-01  5.72516682e-02  9.34385514e-01 -1.04692278e+00\n",
            " -2.17883504e-01  5.40957598e-01 -7.30285997e-01 -9.15701748e-01\n",
            " -1.84235489e+00 -3.37330413e-02  2.53830722e-01 -2.63482081e-01\n",
            " -1.07188964e+00 -8.08476204e-01 -3.74423853e-01  2.75020303e+00\n",
            " -2.63472448e-01 -2.26628334e-01 -6.43183786e-01 -6.05705406e-01\n",
            "  4.08893641e-01  7.60755112e-01  4.17191253e-01  4.29311881e-02\n",
            " -2.27737385e-01  7.21743964e-01 -3.71909952e-01  1.37290059e+00\n",
            "  8.26628455e-01  7.33900228e-01  6.74522846e-01  1.19668855e-01\n",
            " -2.68573683e+00  5.07175811e-02 -8.80732616e-01 -9.81020481e-02\n",
            "  5.87364503e-03 -5.56770508e-01  1.75963750e-01 -4.55009713e-01\n",
            "  3.31144495e-01 -1.07188964e+00 -3.32776649e-01  6.31411149e-01\n",
            "  8.17652916e-02  1.14326329e+00  1.20524495e+00  3.25677420e-01\n",
            " -1.75407102e+00 -1.07756716e+00  2.25422494e+00  1.51669254e+00\n",
            "  8.41291382e-02  1.08626534e-01 -3.45715851e-01  2.95923431e-01\n",
            "  6.88279672e-02  7.75060046e-01  1.70545600e-01 -1.76305758e-01\n",
            "  3.17719624e-01  3.69999855e-01  6.91572139e-01 -4.60701120e-02\n",
            "  1.08397639e-02  4.32829116e-01  4.51946734e-01  1.09597388e+00\n",
            " -2.73057820e-01 -3.83207053e-01 -5.59214379e-01  2.51239773e-01\n",
            " -5.29823331e-01 -5.74067837e-02  4.32200004e-01 -3.83207053e-01\n",
            " -3.86347277e-01  1.41359987e+00  1.56017145e+00 -3.45715851e-01\n",
            " -8.84910165e-02  6.74522846e-01  1.06325016e+00  9.71254154e-02\n",
            " -1.05046582e+00 -1.31936868e+00  1.35045797e-01  3.67695822e-01\n",
            "  2.84729249e-01 -3.21518845e-01  5.93563501e-01  1.06249385e-01\n",
            " -1.00398234e+00  3.89621852e-01 -1.53783932e-01 -1.09680130e-01\n",
            "  5.96025192e-01  1.33651538e+00 -3.93773737e-01  7.73104512e-01\n",
            " -5.41702263e-01  9.43504983e-01 -3.21840844e-01 -6.43183786e-01\n",
            " -1.28698417e-01  3.94864732e-01 -9.10777248e-01  1.57263579e-01\n",
            " -1.28268814e+00 -2.43158059e-01  2.28707367e-01  5.62156581e-01\n",
            "  7.82400853e-01 -1.62249417e-01 -2.17883504e-01  3.57013392e-01\n",
            "  5.05524883e-01 -4.08211882e-02 -1.31937325e+00  4.61754046e-01\n",
            " -2.77442215e-01 -2.20728311e-01 -1.77133265e-01  3.30874764e-01\n",
            " -3.88421951e-01 -1.01111814e-01  6.82313275e-01 -5.89228124e-01\n",
            "  5.13112608e-01  5.19519203e-01  2.13998929e-01 -3.71019730e-01\n",
            " -3.53018761e-01 -1.72833814e+00  1.01141363e-01  8.55244340e-01\n",
            "  2.96177177e-01 -7.71800373e-01  4.83211957e-01  4.25688123e-02\n",
            "  1.50649106e-02 -7.84367499e-02  6.85839031e-01  9.66646702e-01\n",
            " -4.09615591e-01  1.70545600e-01  1.45095056e-01 -1.04934033e+00\n",
            "  9.27635027e-01 -1.15217626e+00  1.29642108e+00 -2.32771827e-04\n",
            "  1.35906238e+00 -9.40485929e-01  4.54876601e-01 -4.45479948e-01\n",
            " -1.63881164e+00 -1.14813716e+00  2.17858672e-01 -1.39218260e-01\n",
            " -9.04160952e-01 -7.72460293e-01 -8.42842222e-02 -2.68928046e-02\n",
            " -8.15881438e-01 -1.39363778e-01  2.12841506e-01  1.42773168e+00\n",
            " -1.23518677e-01  1.73214582e+00 -3.30472186e-02  5.08868737e-01\n",
            "  4.49872256e-01 -4.80424597e-01  2.11740998e-01 -1.32426208e+00\n",
            " -1.39641719e+00 -1.39898748e-01  1.35312248e-01  4.84461651e-01\n",
            " -9.97447579e-02 -1.12376105e-01  1.13212835e+00 -1.41640290e+00\n",
            "  5.38531014e-01 -4.63809487e-01 -1.03346226e+00  2.58745056e-01\n",
            "  3.75543924e-01  4.15392951e-01  1.23228829e-01  4.05349915e-01\n",
            " -8.33064883e-01 -9.40485929e-01 -1.52972324e+00 -6.22251538e-02\n",
            " -1.03620482e+00 -6.56672428e-02 -2.53038441e-01  9.85085957e-01\n",
            "  1.21234700e+00  9.26922159e-01  1.64051034e+00 -3.89050534e-01\n",
            "  1.23228829e-01 -1.50462099e-02 -5.23115007e-01 -4.01781966e-01\n",
            " -2.50959914e-01  3.01670742e-01 -4.71618603e-01  3.24350535e-01\n",
            " -9.29972637e-03 -3.30534662e-01 -6.30529085e-01 -4.42257630e-01\n",
            " -6.48672105e-01 -6.85003921e-01 -2.44105727e-02  3.60261886e-01\n",
            "  1.72066548e+00 -8.64614138e-01 -3.59327361e-01 -6.60635759e-01\n",
            "  1.72753741e+00  1.18089295e+00  4.32200004e-01 -1.41498156e+00\n",
            " -1.35820711e+00 -1.41767085e+00 -9.42623991e-01  2.39750646e+00\n",
            " -8.64614138e-01  1.09495109e+00 -1.20987023e+00 -1.04692278e+00\n",
            "  6.32728002e-02 -4.93217594e-01  3.95685248e-02 -6.40553898e-01\n",
            " -6.96419872e-03 -1.22400349e-01 -2.51406497e-01 -5.12976056e-01\n",
            " -3.30534662e-01  9.60179029e-02 -4.42599667e-01 -6.40553898e-01\n",
            " -5.09591114e-02  9.96715198e-01 -4.62674087e-01  1.60130852e+00\n",
            " -1.18817590e-01 -4.97192088e-01 -4.96878919e-01 -2.07141122e-01\n",
            "  7.64104496e-01 -2.08063742e-01  3.01274564e-01 -1.24811983e+00\n",
            "  6.86422277e-01  3.40464319e-01 -2.10138561e-01  8.72631116e-01\n",
            " -1.94068431e-01 -8.49796457e-01  1.42489051e+00 -1.15000551e+00\n",
            "  4.60952575e-01 -3.28387674e-02 -3.25750395e-01  7.92160467e-01\n",
            " -1.89579014e-01 -5.74067837e-02  8.00553135e-02  9.54906013e-01\n",
            "  5.67595215e-01 -2.27737385e-01 -3.38827669e-01 -8.59721253e-01\n",
            " -1.40022069e+00  1.34006134e-01 -1.25515027e+00  3.67432084e-01\n",
            " -3.34147290e-01 -5.60266414e-01 -9.16627695e-01  8.26136809e-02\n",
            " -3.88421951e-01 -1.44884118e-01 -1.96912129e-01  7.01671829e-02\n",
            "  3.31144495e-01 -1.14118786e+00 -5.61647529e-01  2.73801721e-01\n",
            " -9.29972637e-03 -8.64614138e-01 -2.89742247e-01 -4.43825550e-01\n",
            " -7.91004492e-02 -2.11972110e-01  3.30177717e-02 -9.51939501e-02\n",
            "  6.46979384e-02 -5.57286748e-01 -3.97412881e-01  4.11364465e-01\n",
            "  1.73318286e+00  1.21660052e+00 -4.13053066e-01 -1.80298443e-01\n",
            "  1.10788724e+00  9.26922159e-01 -6.48672105e-01 -6.86181716e-01\n",
            " -5.51853126e-02 -1.62732405e-01  3.34671630e-01 -5.26155101e-01\n",
            " -1.94068431e-01  1.07513073e+00 -1.79973115e-01 -5.21839346e-01\n",
            " -4.05871763e-01  1.53389854e-02  5.58916133e-02 -8.40879732e-02\n",
            " -3.52851388e-01  1.74581796e-01  5.10109352e-01  2.73801721e-01\n",
            " -3.08695544e-02 -2.52363069e-01  1.35773669e+00 -5.74067837e-02\n",
            "  2.43828487e+00 -5.39968761e-02  1.47070006e+00  7.66982905e-01\n",
            "  1.12305544e-01 -9.40485929e-01 -2.40337325e-01 -5.58954350e-01\n",
            " -8.06363410e-01  8.57253857e-02 -7.87105065e-01 -8.31308788e-01\n",
            " -2.85380033e-01 -1.38619626e-01  7.60755112e-01 -6.35691920e-01\n",
            " -1.04692278e+00  1.19668855e-01 -1.94068431e-01 -1.28040132e-01\n",
            "  1.19668855e-01  4.85780833e-01 -6.86181716e-01 -8.81837858e-01\n",
            "  5.67595215e-01  4.67762739e-01 -6.56672428e-02  7.12758216e-01\n",
            " -7.61451053e-02 -1.59622133e-01 -1.12090426e+00 -3.38564425e-02\n",
            " -7.15174090e-01  3.26352834e-01 -3.73142635e-02  1.99743638e-01\n",
            "  1.58368948e+00  1.08939156e+00 -4.55759166e-01 -2.45689196e-01\n",
            "  1.29938200e-01 -1.01111814e-01  1.18980597e+00 -4.93274910e-01\n",
            "  7.78663739e-02  4.25688123e-02  5.82416806e-01 -4.69440299e-01\n",
            " -3.43243689e-01 -1.11314196e+00  7.82400853e-01 -6.76986102e-01\n",
            " -1.33113010e+00 -6.43183786e-01  8.96129831e-01 -6.20671490e-01\n",
            "  1.75963750e-01 -1.76710773e+00  9.04825774e-02 -2.92468165e-01\n",
            "  4.21938639e-01 -9.01170659e-01 -5.04415582e-02  1.20910729e+00\n",
            "  1.41386658e+00  6.13394735e-01  1.75029312e-01 -7.54326674e-01\n",
            " -1.26522181e+00  2.88760302e-01  4.29311881e-02 -4.76952807e-01\n",
            "  4.01553482e-01  3.30501551e-01  7.86105407e-01  1.19668855e-01\n",
            " -3.41109529e-01 -6.03853248e-01  7.82400853e-01 -1.78709133e+00\n",
            " -7.96575232e-03  2.11918030e+00  8.35706016e-01  5.08870066e-02\n",
            "  1.10519492e+00  3.98633152e-01 -4.25902698e-01  6.91741564e-01\n",
            " -9.61927304e-01  8.92554290e-02 -2.17883504e-01  1.45914541e+00\n",
            " -9.38749573e-02  8.15238122e-01  2.99878546e-01  4.60743635e-01\n",
            " -6.64177799e-02 -3.74423853e-01]\n"
          ]
        }
      ]
    },
    {
      "cell_type": "code",
      "source": [
        "\n",
        "from sklearn.metrics import r2_score\n",
        "r2_score(y_test,y_pred)"
      ],
      "metadata": {
        "colab": {
          "base_uri": "https://localhost:8080/"
        },
        "id": "ymhMlKQfmZVD",
        "outputId": "ea17aa10-cc53-4a6f-f0e9-b3d1cbc8f6c4"
      },
      "execution_count": 197,
      "outputs": [
        {
          "output_type": "execute_result",
          "data": {
            "text/plain": [
              "0.5637216244631362"
            ]
          },
          "metadata": {},
          "execution_count": 197
        }
      ]
    },
    {
      "cell_type": "code",
      "source": [
        "from sklearn.model_selection import GridSearchCV\n",
        "grid = GridSearchCV(estimator=model,param_grid=params,scoring='r2')"
      ],
      "metadata": {
        "id": "UCoF5XFXnM9Q"
      },
      "execution_count": 198,
      "outputs": []
    },
    {
      "cell_type": "code",
      "source": [
        " model=grid.fit(X_train,y_train)\n"
      ],
      "metadata": {
        "id": "HPCRMkfILq64"
      },
      "execution_count": 199,
      "outputs": []
    },
    {
      "cell_type": "code",
      "source": [
        "model.best_params_"
      ],
      "metadata": {
        "id": "zFmHREFWQzFZ",
        "colab": {
          "base_uri": "https://localhost:8080/"
        },
        "outputId": "5d8321eb-b4fe-4c99-8895-d89cd84f3f11"
      },
      "execution_count": 200,
      "outputs": [
        {
          "output_type": "execute_result",
          "data": {
            "text/plain": [
              "{'fit_intercept': False, 'positive': False}"
            ]
          },
          "metadata": {},
          "execution_count": 200
        }
      ]
    },
    {
      "cell_type": "code",
      "source": [
        "\n",
        "\n",
        "model.best_score_\n",
        "\n"
      ],
      "metadata": {
        "colab": {
          "base_uri": "https://localhost:8080/"
        },
        "id": "zgzNh2Div17E",
        "outputId": "c8ba25a6-25f1-4d0a-8961-1652168e9b1e"
      },
      "execution_count": 201,
      "outputs": [
        {
          "output_type": "execute_result",
          "data": {
            "text/plain": [
              "0.571902509914465"
            ]
          },
          "metadata": {},
          "execution_count": 201
        }
      ]
    },
    {
      "cell_type": "code",
      "source": [
        "\n",
        "from sklearn import linear_model\n",
        "lasso_reg = linear_model.Lasso(alpha=500,max_iter=500,tol=0.925)\n",
        "lasso_reg.fit(X_train,y_train)\n",
        "\n",
        "\n"
      ],
      "metadata": {
        "colab": {
          "base_uri": "https://localhost:8080/"
        },
        "id": "Ngr632t41SpE",
        "outputId": "3246c35f-e768-4fa5-8e5c-ecdcc4349197"
      },
      "execution_count": 202,
      "outputs": [
        {
          "output_type": "execute_result",
          "data": {
            "text/plain": [
              "Lasso(alpha=500, max_iter=500, tol=0.925)"
            ]
          },
          "metadata": {},
          "execution_count": 202
        }
      ]
    },
    {
      "cell_type": "code",
      "source": [
        "lasso_reg.score(X_test,y_test)"
      ],
      "metadata": {
        "colab": {
          "base_uri": "https://localhost:8080/"
        },
        "id": "ZMGSrwr73TLS",
        "outputId": "7045c496-90fd-4ae4-baaa-b85f97c4c09b"
      },
      "execution_count": 203,
      "outputs": [
        {
          "output_type": "execute_result",
          "data": {
            "text/plain": [
              "-0.016897063109309052"
            ]
          },
          "metadata": {},
          "execution_count": 203
        }
      ]
    },
    {
      "cell_type": "code",
      "source": [
        "from sklearn.tree import DecisionTreeRegressor\n",
        "regressor = DecisionTreeRegressor(random_state = 0)\n",
        "regressor.fit(X_train, y_train)"
      ],
      "metadata": {
        "id": "prtDxf5S6E83",
        "colab": {
          "base_uri": "https://localhost:8080/"
        },
        "outputId": "3ef083b4-b027-466d-f269-b0a5b63c372f"
      },
      "execution_count": 204,
      "outputs": [
        {
          "output_type": "execute_result",
          "data": {
            "text/plain": [
              "DecisionTreeRegressor(random_state=0)"
            ]
          },
          "metadata": {},
          "execution_count": 204
        }
      ]
    },
    {
      "cell_type": "code",
      "source": [
        "regressor.score(X_train, y_train)"
      ],
      "metadata": {
        "colab": {
          "base_uri": "https://localhost:8080/"
        },
        "id": "5YaNC8m3qPoy",
        "outputId": "0a32b0bb-2ead-40b0-9de0-4967efa5f1a1"
      },
      "execution_count": 205,
      "outputs": [
        {
          "output_type": "execute_result",
          "data": {
            "text/plain": [
              "0.9912078021738223"
            ]
          },
          "metadata": {},
          "execution_count": 205
        }
      ]
    },
    {
      "cell_type": "code",
      "source": [
        "predictions=regressor.predict(X_test)"
      ],
      "metadata": {
        "id": "cVCqny-hqfGB"
      },
      "execution_count": 206,
      "outputs": []
    },
    {
      "cell_type": "code",
      "source": [
        "r2_score(y_test,predictions)"
      ],
      "metadata": {
        "colab": {
          "base_uri": "https://localhost:8080/"
        },
        "id": "2hC4eOX0sg6T",
        "outputId": "300f4cba-ce71-4e88-876f-2e4196f78163"
      },
      "execution_count": 207,
      "outputs": [
        {
          "output_type": "execute_result",
          "data": {
            "text/plain": [
              "0.22101930610237308"
            ]
          },
          "metadata": {},
          "execution_count": 207
        }
      ]
    },
    {
      "cell_type": "code",
      "source": [
        "from sklearn.ensemble import RandomForestRegressor\n",
        "regressor2 = RandomForestRegressor(n_estimators = 400, random_state = 0)\n",
        "regressor2.fit(X_train, y_train)"
      ],
      "metadata": {
        "id": "fP0J7AYOq_Lz",
        "colab": {
          "base_uri": "https://localhost:8080/"
        },
        "outputId": "fffeb85e-6a31-47a6-e16c-c2f2802481f6"
      },
      "execution_count": 208,
      "outputs": [
        {
          "output_type": "execute_result",
          "data": {
            "text/plain": [
              "RandomForestRegressor(n_estimators=400, random_state=0)"
            ]
          },
          "metadata": {},
          "execution_count": 208
        }
      ]
    },
    {
      "cell_type": "code",
      "source": [
        "\n",
        "regressor2.score(X_train, y_train)"
      ],
      "metadata": {
        "colab": {
          "base_uri": "https://localhost:8080/"
        },
        "id": "FZxH2C9Av6tg",
        "outputId": "cb097fa8-70ab-4b1d-b211-f5a4ad324503"
      },
      "execution_count": 209,
      "outputs": [
        {
          "output_type": "execute_result",
          "data": {
            "text/plain": [
              "0.9390846454022257"
            ]
          },
          "metadata": {},
          "execution_count": 209
        }
      ]
    },
    {
      "cell_type": "code",
      "source": [
        "pred2=regressor2.predict(X_test)"
      ],
      "metadata": {
        "id": "R2SJtl_FxcEa"
      },
      "execution_count": 210,
      "outputs": []
    },
    {
      "cell_type": "code",
      "source": [
        "y_test.head"
      ],
      "metadata": {
        "colab": {
          "base_uri": "https://localhost:8080/"
        },
        "id": "QCOgja8mxk1t",
        "outputId": "8f031d16-18a9-4298-e76b-46cb45bdfc82"
      },
      "execution_count": 211,
      "outputs": [
        {
          "output_type": "execute_result",
          "data": {
            "text/plain": [
              "<bound method NDFrame.head of 685   -2.023120\n",
              "255   -1.895276\n",
              "868    0.147481\n",
              "142   -0.616147\n",
              "641   -2.426585\n",
              "         ...   \n",
              "399    0.913171\n",
              "765    0.632051\n",
              "452   -0.194124\n",
              "352    0.616243\n",
              "599   -0.277292\n",
              "Name: LC50 [-LOG(mol/L)], Length: 454, dtype: float64>"
            ]
          },
          "metadata": {},
          "execution_count": 211
        }
      ]
    },
    {
      "cell_type": "code",
      "source": [
        "r2_score(y_test,pred2)"
      ],
      "metadata": {
        "colab": {
          "base_uri": "https://localhost:8080/"
        },
        "id": "mqux2u2iyNDO",
        "outputId": "1d8b63af-981d-46f2-9ae2-89907a4847ca"
      },
      "execution_count": 212,
      "outputs": [
        {
          "output_type": "execute_result",
          "data": {
            "text/plain": [
              "0.6022630829151812"
            ]
          },
          "metadata": {},
          "execution_count": 212
        }
      ]
    },
    {
      "cell_type": "code",
      "source": [
        ""
      ],
      "metadata": {
        "id": "Eq7OwJz22GXV"
      },
      "execution_count": 212,
      "outputs": []
    }
  ],
  "metadata": {
    "colab": {
      "collapsed_sections": [],
      "name": "LC50.ipynb",
      "provenance": [],
      "authorship_tag": "ABX9TyMWK3InMgKU4s3NLF3V/oNF",
      "include_colab_link": true
    },
    "kernelspec": {
      "display_name": "Python 3",
      "name": "python3"
    },
    "language_info": {
      "name": "python"
    }
  },
  "nbformat": 4,
  "nbformat_minor": 0
}
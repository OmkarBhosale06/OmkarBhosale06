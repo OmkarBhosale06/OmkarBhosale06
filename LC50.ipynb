{
  "cells": [
    {
      "cell_type": "markdown",
      "metadata": {
        "id": "view-in-github",
        "colab_type": "text"
      },
      "source": [
        "<a href=\"https://colab.research.google.com/github/OmkarBhosale06/OmkarBhosale06/blob/main/LC50.ipynb\" target=\"_parent\"><img src=\"https://colab.research.google.com/assets/colab-badge.svg\" alt=\"Open In Colab\"/></a>"
      ]
    },
    {
      "cell_type": "code",
      "execution_count": 2,
      "metadata": {
        "id": "VGPz9jKEW1RO"
      },
      "outputs": [],
      "source": [
        "import pandas as pd \n",
        "import numpy as np\n",
        "import matplotlib.pyplot as plt\n",
        "from sklearn.model_selection import train_test_split\n",
        "from sklearn.linear_model import LinearRegression,Ridge,Lasso"
      ]
    },
    {
      "cell_type": "code",
      "execution_count": 3,
      "metadata": {
        "id": "enTHTgByYA_C"
      },
      "outputs": [],
      "source": [
        "dataset = '/content/qsar_fish_toxicity.csv'\n",
        "data = pd.read_csv(dataset)\n",
        "\n",
        "      \n",
        "  \n",
        "  \n",
        "\n"
      ]
    },
    {
      "cell_type": "code",
      "execution_count": 4,
      "metadata": {
        "colab": {
          "base_uri": "https://localhost:8080/",
          "height": 206
        },
        "id": "sNzeFzsgYZFI",
        "outputId": "84a0750b-21f4-4cd3-bda5-8dc19e0242ae"
      },
      "outputs": [
        {
          "output_type": "execute_result",
          "data": {
            "text/html": [
              "\n",
              "  <div id=\"df-07894db2-8ada-448a-bc18-4ec45e7e6ee3\">\n",
              "    <div class=\"colab-df-container\">\n",
              "      <div>\n",
              "<style scoped>\n",
              "    .dataframe tbody tr th:only-of-type {\n",
              "        vertical-align: middle;\n",
              "    }\n",
              "\n",
              "    .dataframe tbody tr th {\n",
              "        vertical-align: top;\n",
              "    }\n",
              "\n",
              "    .dataframe thead th {\n",
              "        text-align: right;\n",
              "    }\n",
              "</style>\n",
              "<table border=\"1\" class=\"dataframe\">\n",
              "  <thead>\n",
              "    <tr style=\"text-align: right;\">\n",
              "      <th></th>\n",
              "      <th>CIC0</th>\n",
              "      <th>SM1_Dz(Z)</th>\n",
              "      <th>GATS1i</th>\n",
              "      <th>NdsCH</th>\n",
              "      <th>NdssC</th>\n",
              "      <th>MLOGP</th>\n",
              "      <th>LC50 [-LOG(mol/L)]</th>\n",
              "    </tr>\n",
              "  </thead>\n",
              "  <tbody>\n",
              "    <tr>\n",
              "      <th>0</th>\n",
              "      <td>3.260</td>\n",
              "      <td>0.829</td>\n",
              "      <td>1.676</td>\n",
              "      <td>0</td>\n",
              "      <td>1</td>\n",
              "      <td>1.453</td>\n",
              "      <td>3.770</td>\n",
              "    </tr>\n",
              "    <tr>\n",
              "      <th>1</th>\n",
              "      <td>2.189</td>\n",
              "      <td>0.580</td>\n",
              "      <td>0.863</td>\n",
              "      <td>0</td>\n",
              "      <td>0</td>\n",
              "      <td>1.348</td>\n",
              "      <td>3.115</td>\n",
              "    </tr>\n",
              "    <tr>\n",
              "      <th>2</th>\n",
              "      <td>2.125</td>\n",
              "      <td>0.638</td>\n",
              "      <td>0.831</td>\n",
              "      <td>0</td>\n",
              "      <td>0</td>\n",
              "      <td>1.348</td>\n",
              "      <td>3.531</td>\n",
              "    </tr>\n",
              "    <tr>\n",
              "      <th>3</th>\n",
              "      <td>3.027</td>\n",
              "      <td>0.331</td>\n",
              "      <td>1.472</td>\n",
              "      <td>1</td>\n",
              "      <td>0</td>\n",
              "      <td>1.807</td>\n",
              "      <td>3.510</td>\n",
              "    </tr>\n",
              "    <tr>\n",
              "      <th>4</th>\n",
              "      <td>2.094</td>\n",
              "      <td>0.827</td>\n",
              "      <td>0.860</td>\n",
              "      <td>0</td>\n",
              "      <td>0</td>\n",
              "      <td>1.886</td>\n",
              "      <td>5.390</td>\n",
              "    </tr>\n",
              "  </tbody>\n",
              "</table>\n",
              "</div>\n",
              "      <button class=\"colab-df-convert\" onclick=\"convertToInteractive('df-07894db2-8ada-448a-bc18-4ec45e7e6ee3')\"\n",
              "              title=\"Convert this dataframe to an interactive table.\"\n",
              "              style=\"display:none;\">\n",
              "        \n",
              "  <svg xmlns=\"http://www.w3.org/2000/svg\" height=\"24px\"viewBox=\"0 0 24 24\"\n",
              "       width=\"24px\">\n",
              "    <path d=\"M0 0h24v24H0V0z\" fill=\"none\"/>\n",
              "    <path d=\"M18.56 5.44l.94 2.06.94-2.06 2.06-.94-2.06-.94-.94-2.06-.94 2.06-2.06.94zm-11 1L8.5 8.5l.94-2.06 2.06-.94-2.06-.94L8.5 2.5l-.94 2.06-2.06.94zm10 10l.94 2.06.94-2.06 2.06-.94-2.06-.94-.94-2.06-.94 2.06-2.06.94z\"/><path d=\"M17.41 7.96l-1.37-1.37c-.4-.4-.92-.59-1.43-.59-.52 0-1.04.2-1.43.59L10.3 9.45l-7.72 7.72c-.78.78-.78 2.05 0 2.83L4 21.41c.39.39.9.59 1.41.59.51 0 1.02-.2 1.41-.59l7.78-7.78 2.81-2.81c.8-.78.8-2.07 0-2.86zM5.41 20L4 18.59l7.72-7.72 1.47 1.35L5.41 20z\"/>\n",
              "  </svg>\n",
              "      </button>\n",
              "      \n",
              "  <style>\n",
              "    .colab-df-container {\n",
              "      display:flex;\n",
              "      flex-wrap:wrap;\n",
              "      gap: 12px;\n",
              "    }\n",
              "\n",
              "    .colab-df-convert {\n",
              "      background-color: #E8F0FE;\n",
              "      border: none;\n",
              "      border-radius: 50%;\n",
              "      cursor: pointer;\n",
              "      display: none;\n",
              "      fill: #1967D2;\n",
              "      height: 32px;\n",
              "      padding: 0 0 0 0;\n",
              "      width: 32px;\n",
              "    }\n",
              "\n",
              "    .colab-df-convert:hover {\n",
              "      background-color: #E2EBFA;\n",
              "      box-shadow: 0px 1px 2px rgba(60, 64, 67, 0.3), 0px 1px 3px 1px rgba(60, 64, 67, 0.15);\n",
              "      fill: #174EA6;\n",
              "    }\n",
              "\n",
              "    [theme=dark] .colab-df-convert {\n",
              "      background-color: #3B4455;\n",
              "      fill: #D2E3FC;\n",
              "    }\n",
              "\n",
              "    [theme=dark] .colab-df-convert:hover {\n",
              "      background-color: #434B5C;\n",
              "      box-shadow: 0px 1px 3px 1px rgba(0, 0, 0, 0.15);\n",
              "      filter: drop-shadow(0px 1px 2px rgba(0, 0, 0, 0.3));\n",
              "      fill: #FFFFFF;\n",
              "    }\n",
              "  </style>\n",
              "\n",
              "      <script>\n",
              "        const buttonEl =\n",
              "          document.querySelector('#df-07894db2-8ada-448a-bc18-4ec45e7e6ee3 button.colab-df-convert');\n",
              "        buttonEl.style.display =\n",
              "          google.colab.kernel.accessAllowed ? 'block' : 'none';\n",
              "\n",
              "        async function convertToInteractive(key) {\n",
              "          const element = document.querySelector('#df-07894db2-8ada-448a-bc18-4ec45e7e6ee3');\n",
              "          const dataTable =\n",
              "            await google.colab.kernel.invokeFunction('convertToInteractive',\n",
              "                                                     [key], {});\n",
              "          if (!dataTable) return;\n",
              "\n",
              "          const docLinkHtml = 'Like what you see? Visit the ' +\n",
              "            '<a target=\"_blank\" href=https://colab.research.google.com/notebooks/data_table.ipynb>data table notebook</a>'\n",
              "            + ' to learn more about interactive tables.';\n",
              "          element.innerHTML = '';\n",
              "          dataTable['output_type'] = 'display_data';\n",
              "          await google.colab.output.renderOutput(dataTable, element);\n",
              "          const docLink = document.createElement('div');\n",
              "          docLink.innerHTML = docLinkHtml;\n",
              "          element.appendChild(docLink);\n",
              "        }\n",
              "      </script>\n",
              "    </div>\n",
              "  </div>\n",
              "  "
            ],
            "text/plain": [
              "    CIC0  SM1_Dz(Z)  GATS1i  NdsCH  NdssC  MLOGP  LC50 [-LOG(mol/L)]\n",
              "0  3.260      0.829   1.676      0      1  1.453               3.770\n",
              "1  2.189      0.580   0.863      0      0  1.348               3.115\n",
              "2  2.125      0.638   0.831      0      0  1.348               3.531\n",
              "3  3.027      0.331   1.472      1      0  1.807               3.510\n",
              "4  2.094      0.827   0.860      0      0  1.886               5.390"
            ]
          },
          "metadata": {},
          "execution_count": 4
        }
      ],
      "source": [
        "\n",
        "data.head()"
      ]
    },
    {
      "cell_type": "code",
      "source": [
        "data['NdsCH'].value_counts()"
      ],
      "metadata": {
        "colab": {
          "base_uri": "https://localhost:8080/"
        },
        "id": "t_0dl0j8mcCG",
        "outputId": "c2641811-37e5-45aa-905b-f6d93f4f33e5"
      },
      "execution_count": 5,
      "outputs": [
        {
          "output_type": "execute_result",
          "data": {
            "text/plain": [
              "0    760\n",
              "1    107\n",
              "2     29\n",
              "4      7\n",
              "3      5\n",
              "Name: NdsCH, dtype: int64"
            ]
          },
          "metadata": {},
          "execution_count": 5
        }
      ]
    },
    {
      "cell_type": "code",
      "source": [
        "\n",
        "column_names = list(data.columns)\n",
        "column_names"
      ],
      "metadata": {
        "colab": {
          "base_uri": "https://localhost:8080/"
        },
        "id": "4pzuIb0AlgZ9",
        "outputId": "746b2360-1a51-43b5-c0f1-9ac9893be2b0"
      },
      "execution_count": 6,
      "outputs": [
        {
          "output_type": "execute_result",
          "data": {
            "text/plain": [
              "['CIC0',\n",
              " 'SM1_Dz(Z)',\n",
              " 'GATS1i',\n",
              " 'NdsCH',\n",
              " 'NdssC',\n",
              " 'MLOGP',\n",
              " 'LC50 [-LOG(mol/L)]']"
            ]
          },
          "metadata": {},
          "execution_count": 6
        }
      ]
    },
    {
      "cell_type": "code",
      "execution_count": 7,
      "metadata": {
        "colab": {
          "base_uri": "https://localhost:8080/",
          "height": 206
        },
        "id": "4bKMIdaRZZkq",
        "outputId": "b3e4e7f5-fdda-4564-a8ee-cfca5ff278f8"
      },
      "outputs": [
        {
          "output_type": "execute_result",
          "data": {
            "text/html": [
              "\n",
              "  <div id=\"df-36a8f53c-d946-4758-8232-8e5d113ae21e\">\n",
              "    <div class=\"colab-df-container\">\n",
              "      <div>\n",
              "<style scoped>\n",
              "    .dataframe tbody tr th:only-of-type {\n",
              "        vertical-align: middle;\n",
              "    }\n",
              "\n",
              "    .dataframe tbody tr th {\n",
              "        vertical-align: top;\n",
              "    }\n",
              "\n",
              "    .dataframe thead th {\n",
              "        text-align: right;\n",
              "    }\n",
              "</style>\n",
              "<table border=\"1\" class=\"dataframe\">\n",
              "  <thead>\n",
              "    <tr style=\"text-align: right;\">\n",
              "      <th></th>\n",
              "      <th>CIC0</th>\n",
              "      <th>SM1_Dz(Z)</th>\n",
              "      <th>GATS1i</th>\n",
              "      <th>NdsCH</th>\n",
              "      <th>NdssC</th>\n",
              "      <th>MLOGP</th>\n",
              "      <th>LC50 [-LOG(mol/L)]</th>\n",
              "    </tr>\n",
              "  </thead>\n",
              "  <tbody>\n",
              "    <tr>\n",
              "      <th>903</th>\n",
              "      <td>2.801</td>\n",
              "      <td>0.728</td>\n",
              "      <td>2.226</td>\n",
              "      <td>0</td>\n",
              "      <td>2</td>\n",
              "      <td>0.736</td>\n",
              "      <td>3.109</td>\n",
              "    </tr>\n",
              "    <tr>\n",
              "      <th>904</th>\n",
              "      <td>3.652</td>\n",
              "      <td>0.872</td>\n",
              "      <td>0.867</td>\n",
              "      <td>2</td>\n",
              "      <td>3</td>\n",
              "      <td>3.983</td>\n",
              "      <td>4.040</td>\n",
              "    </tr>\n",
              "    <tr>\n",
              "      <th>905</th>\n",
              "      <td>3.763</td>\n",
              "      <td>0.916</td>\n",
              "      <td>0.878</td>\n",
              "      <td>0</td>\n",
              "      <td>6</td>\n",
              "      <td>2.918</td>\n",
              "      <td>4.818</td>\n",
              "    </tr>\n",
              "    <tr>\n",
              "      <th>906</th>\n",
              "      <td>2.831</td>\n",
              "      <td>1.393</td>\n",
              "      <td>1.077</td>\n",
              "      <td>0</td>\n",
              "      <td>1</td>\n",
              "      <td>0.906</td>\n",
              "      <td>5.317</td>\n",
              "    </tr>\n",
              "    <tr>\n",
              "      <th>907</th>\n",
              "      <td>4.057</td>\n",
              "      <td>1.032</td>\n",
              "      <td>1.183</td>\n",
              "      <td>1</td>\n",
              "      <td>3</td>\n",
              "      <td>4.754</td>\n",
              "      <td>8.201</td>\n",
              "    </tr>\n",
              "  </tbody>\n",
              "</table>\n",
              "</div>\n",
              "      <button class=\"colab-df-convert\" onclick=\"convertToInteractive('df-36a8f53c-d946-4758-8232-8e5d113ae21e')\"\n",
              "              title=\"Convert this dataframe to an interactive table.\"\n",
              "              style=\"display:none;\">\n",
              "        \n",
              "  <svg xmlns=\"http://www.w3.org/2000/svg\" height=\"24px\"viewBox=\"0 0 24 24\"\n",
              "       width=\"24px\">\n",
              "    <path d=\"M0 0h24v24H0V0z\" fill=\"none\"/>\n",
              "    <path d=\"M18.56 5.44l.94 2.06.94-2.06 2.06-.94-2.06-.94-.94-2.06-.94 2.06-2.06.94zm-11 1L8.5 8.5l.94-2.06 2.06-.94-2.06-.94L8.5 2.5l-.94 2.06-2.06.94zm10 10l.94 2.06.94-2.06 2.06-.94-2.06-.94-.94-2.06-.94 2.06-2.06.94z\"/><path d=\"M17.41 7.96l-1.37-1.37c-.4-.4-.92-.59-1.43-.59-.52 0-1.04.2-1.43.59L10.3 9.45l-7.72 7.72c-.78.78-.78 2.05 0 2.83L4 21.41c.39.39.9.59 1.41.59.51 0 1.02-.2 1.41-.59l7.78-7.78 2.81-2.81c.8-.78.8-2.07 0-2.86zM5.41 20L4 18.59l7.72-7.72 1.47 1.35L5.41 20z\"/>\n",
              "  </svg>\n",
              "      </button>\n",
              "      \n",
              "  <style>\n",
              "    .colab-df-container {\n",
              "      display:flex;\n",
              "      flex-wrap:wrap;\n",
              "      gap: 12px;\n",
              "    }\n",
              "\n",
              "    .colab-df-convert {\n",
              "      background-color: #E8F0FE;\n",
              "      border: none;\n",
              "      border-radius: 50%;\n",
              "      cursor: pointer;\n",
              "      display: none;\n",
              "      fill: #1967D2;\n",
              "      height: 32px;\n",
              "      padding: 0 0 0 0;\n",
              "      width: 32px;\n",
              "    }\n",
              "\n",
              "    .colab-df-convert:hover {\n",
              "      background-color: #E2EBFA;\n",
              "      box-shadow: 0px 1px 2px rgba(60, 64, 67, 0.3), 0px 1px 3px 1px rgba(60, 64, 67, 0.15);\n",
              "      fill: #174EA6;\n",
              "    }\n",
              "\n",
              "    [theme=dark] .colab-df-convert {\n",
              "      background-color: #3B4455;\n",
              "      fill: #D2E3FC;\n",
              "    }\n",
              "\n",
              "    [theme=dark] .colab-df-convert:hover {\n",
              "      background-color: #434B5C;\n",
              "      box-shadow: 0px 1px 3px 1px rgba(0, 0, 0, 0.15);\n",
              "      filter: drop-shadow(0px 1px 2px rgba(0, 0, 0, 0.3));\n",
              "      fill: #FFFFFF;\n",
              "    }\n",
              "  </style>\n",
              "\n",
              "      <script>\n",
              "        const buttonEl =\n",
              "          document.querySelector('#df-36a8f53c-d946-4758-8232-8e5d113ae21e button.colab-df-convert');\n",
              "        buttonEl.style.display =\n",
              "          google.colab.kernel.accessAllowed ? 'block' : 'none';\n",
              "\n",
              "        async function convertToInteractive(key) {\n",
              "          const element = document.querySelector('#df-36a8f53c-d946-4758-8232-8e5d113ae21e');\n",
              "          const dataTable =\n",
              "            await google.colab.kernel.invokeFunction('convertToInteractive',\n",
              "                                                     [key], {});\n",
              "          if (!dataTable) return;\n",
              "\n",
              "          const docLinkHtml = 'Like what you see? Visit the ' +\n",
              "            '<a target=\"_blank\" href=https://colab.research.google.com/notebooks/data_table.ipynb>data table notebook</a>'\n",
              "            + ' to learn more about interactive tables.';\n",
              "          element.innerHTML = '';\n",
              "          dataTable['output_type'] = 'display_data';\n",
              "          await google.colab.output.renderOutput(dataTable, element);\n",
              "          const docLink = document.createElement('div');\n",
              "          docLink.innerHTML = docLinkHtml;\n",
              "          element.appendChild(docLink);\n",
              "        }\n",
              "      </script>\n",
              "    </div>\n",
              "  </div>\n",
              "  "
            ],
            "text/plain": [
              "      CIC0  SM1_Dz(Z)  GATS1i  NdsCH  NdssC  MLOGP  LC50 [-LOG(mol/L)]\n",
              "903  2.801      0.728   2.226      0      2  0.736               3.109\n",
              "904  3.652      0.872   0.867      2      3  3.983               4.040\n",
              "905  3.763      0.916   0.878      0      6  2.918               4.818\n",
              "906  2.831      1.393   1.077      0      1  0.906               5.317\n",
              "907  4.057      1.032   1.183      1      3  4.754               8.201"
            ]
          },
          "metadata": {},
          "execution_count": 7
        }
      ],
      "source": [
        "data.tail()"
      ]
    },
    {
      "cell_type": "code",
      "execution_count": 8,
      "metadata": {
        "colab": {
          "base_uri": "https://localhost:8080/"
        },
        "id": "0cdAJ-zVZbwc",
        "outputId": "232efb8e-f70b-4dd9-c47b-a44fae3f2d77"
      },
      "outputs": [
        {
          "output_type": "execute_result",
          "data": {
            "text/plain": [
              "CIC0                  0\n",
              "SM1_Dz(Z)             0\n",
              "GATS1i                0\n",
              "NdsCH                 0\n",
              "NdssC                 0\n",
              "MLOGP                 0\n",
              "LC50 [-LOG(mol/L)]    0\n",
              "dtype: int64"
            ]
          },
          "metadata": {},
          "execution_count": 8
        }
      ],
      "source": [
        "data.isnull().sum()"
      ]
    },
    {
      "cell_type": "code",
      "execution_count": 9,
      "metadata": {
        "colab": {
          "base_uri": "https://localhost:8080/",
          "height": 362
        },
        "id": "hvcT3bp09_X3",
        "outputId": "27248c3b-d65d-4340-b5e8-b4ee8684d2ae"
      },
      "outputs": [
        {
          "output_type": "execute_result",
          "data": {
            "text/html": [
              "\n",
              "  <div id=\"df-0cada6b8-da7f-4241-b9f0-75f2386ba780\">\n",
              "    <div class=\"colab-df-container\">\n",
              "      <div>\n",
              "<style scoped>\n",
              "    .dataframe tbody tr th:only-of-type {\n",
              "        vertical-align: middle;\n",
              "    }\n",
              "\n",
              "    .dataframe tbody tr th {\n",
              "        vertical-align: top;\n",
              "    }\n",
              "\n",
              "    .dataframe thead th {\n",
              "        text-align: right;\n",
              "    }\n",
              "</style>\n",
              "<table border=\"1\" class=\"dataframe\">\n",
              "  <thead>\n",
              "    <tr style=\"text-align: right;\">\n",
              "      <th></th>\n",
              "      <th>CIC0</th>\n",
              "      <th>SM1_Dz(Z)</th>\n",
              "      <th>GATS1i</th>\n",
              "      <th>NdsCH</th>\n",
              "      <th>NdssC</th>\n",
              "      <th>MLOGP</th>\n",
              "      <th>LC50 [-LOG(mol/L)]</th>\n",
              "    </tr>\n",
              "  </thead>\n",
              "  <tbody>\n",
              "    <tr>\n",
              "      <th>count</th>\n",
              "      <td>908.000000</td>\n",
              "      <td>908.000000</td>\n",
              "      <td>908.000000</td>\n",
              "      <td>908.000000</td>\n",
              "      <td>908.000000</td>\n",
              "      <td>908.000000</td>\n",
              "      <td>908.000000</td>\n",
              "    </tr>\n",
              "    <tr>\n",
              "      <th>mean</th>\n",
              "      <td>2.898129</td>\n",
              "      <td>0.628468</td>\n",
              "      <td>1.293591</td>\n",
              "      <td>0.229075</td>\n",
              "      <td>0.485683</td>\n",
              "      <td>2.109285</td>\n",
              "      <td>4.064431</td>\n",
              "    </tr>\n",
              "    <tr>\n",
              "      <th>std</th>\n",
              "      <td>0.756088</td>\n",
              "      <td>0.428459</td>\n",
              "      <td>0.394303</td>\n",
              "      <td>0.605335</td>\n",
              "      <td>0.861279</td>\n",
              "      <td>1.433181</td>\n",
              "      <td>1.455698</td>\n",
              "    </tr>\n",
              "    <tr>\n",
              "      <th>min</th>\n",
              "      <td>0.667000</td>\n",
              "      <td>0.000000</td>\n",
              "      <td>0.396000</td>\n",
              "      <td>0.000000</td>\n",
              "      <td>0.000000</td>\n",
              "      <td>-2.884000</td>\n",
              "      <td>0.053000</td>\n",
              "    </tr>\n",
              "    <tr>\n",
              "      <th>25%</th>\n",
              "      <td>2.347000</td>\n",
              "      <td>0.223000</td>\n",
              "      <td>0.950750</td>\n",
              "      <td>0.000000</td>\n",
              "      <td>0.000000</td>\n",
              "      <td>1.209000</td>\n",
              "      <td>3.151750</td>\n",
              "    </tr>\n",
              "    <tr>\n",
              "      <th>50%</th>\n",
              "      <td>2.934000</td>\n",
              "      <td>0.570000</td>\n",
              "      <td>1.240500</td>\n",
              "      <td>0.000000</td>\n",
              "      <td>0.000000</td>\n",
              "      <td>2.127000</td>\n",
              "      <td>3.987500</td>\n",
              "    </tr>\n",
              "    <tr>\n",
              "      <th>75%</th>\n",
              "      <td>3.407000</td>\n",
              "      <td>0.892750</td>\n",
              "      <td>1.562250</td>\n",
              "      <td>0.000000</td>\n",
              "      <td>1.000000</td>\n",
              "      <td>3.105000</td>\n",
              "      <td>4.907500</td>\n",
              "    </tr>\n",
              "    <tr>\n",
              "      <th>max</th>\n",
              "      <td>5.926000</td>\n",
              "      <td>2.171000</td>\n",
              "      <td>2.920000</td>\n",
              "      <td>4.000000</td>\n",
              "      <td>6.000000</td>\n",
              "      <td>6.515000</td>\n",
              "      <td>9.612000</td>\n",
              "    </tr>\n",
              "  </tbody>\n",
              "</table>\n",
              "</div>\n",
              "      <button class=\"colab-df-convert\" onclick=\"convertToInteractive('df-0cada6b8-da7f-4241-b9f0-75f2386ba780')\"\n",
              "              title=\"Convert this dataframe to an interactive table.\"\n",
              "              style=\"display:none;\">\n",
              "        \n",
              "  <svg xmlns=\"http://www.w3.org/2000/svg\" height=\"24px\"viewBox=\"0 0 24 24\"\n",
              "       width=\"24px\">\n",
              "    <path d=\"M0 0h24v24H0V0z\" fill=\"none\"/>\n",
              "    <path d=\"M18.56 5.44l.94 2.06.94-2.06 2.06-.94-2.06-.94-.94-2.06-.94 2.06-2.06.94zm-11 1L8.5 8.5l.94-2.06 2.06-.94-2.06-.94L8.5 2.5l-.94 2.06-2.06.94zm10 10l.94 2.06.94-2.06 2.06-.94-2.06-.94-.94-2.06-.94 2.06-2.06.94z\"/><path d=\"M17.41 7.96l-1.37-1.37c-.4-.4-.92-.59-1.43-.59-.52 0-1.04.2-1.43.59L10.3 9.45l-7.72 7.72c-.78.78-.78 2.05 0 2.83L4 21.41c.39.39.9.59 1.41.59.51 0 1.02-.2 1.41-.59l7.78-7.78 2.81-2.81c.8-.78.8-2.07 0-2.86zM5.41 20L4 18.59l7.72-7.72 1.47 1.35L5.41 20z\"/>\n",
              "  </svg>\n",
              "      </button>\n",
              "      \n",
              "  <style>\n",
              "    .colab-df-container {\n",
              "      display:flex;\n",
              "      flex-wrap:wrap;\n",
              "      gap: 12px;\n",
              "    }\n",
              "\n",
              "    .colab-df-convert {\n",
              "      background-color: #E8F0FE;\n",
              "      border: none;\n",
              "      border-radius: 50%;\n",
              "      cursor: pointer;\n",
              "      display: none;\n",
              "      fill: #1967D2;\n",
              "      height: 32px;\n",
              "      padding: 0 0 0 0;\n",
              "      width: 32px;\n",
              "    }\n",
              "\n",
              "    .colab-df-convert:hover {\n",
              "      background-color: #E2EBFA;\n",
              "      box-shadow: 0px 1px 2px rgba(60, 64, 67, 0.3), 0px 1px 3px 1px rgba(60, 64, 67, 0.15);\n",
              "      fill: #174EA6;\n",
              "    }\n",
              "\n",
              "    [theme=dark] .colab-df-convert {\n",
              "      background-color: #3B4455;\n",
              "      fill: #D2E3FC;\n",
              "    }\n",
              "\n",
              "    [theme=dark] .colab-df-convert:hover {\n",
              "      background-color: #434B5C;\n",
              "      box-shadow: 0px 1px 3px 1px rgba(0, 0, 0, 0.15);\n",
              "      filter: drop-shadow(0px 1px 2px rgba(0, 0, 0, 0.3));\n",
              "      fill: #FFFFFF;\n",
              "    }\n",
              "  </style>\n",
              "\n",
              "      <script>\n",
              "        const buttonEl =\n",
              "          document.querySelector('#df-0cada6b8-da7f-4241-b9f0-75f2386ba780 button.colab-df-convert');\n",
              "        buttonEl.style.display =\n",
              "          google.colab.kernel.accessAllowed ? 'block' : 'none';\n",
              "\n",
              "        async function convertToInteractive(key) {\n",
              "          const element = document.querySelector('#df-0cada6b8-da7f-4241-b9f0-75f2386ba780');\n",
              "          const dataTable =\n",
              "            await google.colab.kernel.invokeFunction('convertToInteractive',\n",
              "                                                     [key], {});\n",
              "          if (!dataTable) return;\n",
              "\n",
              "          const docLinkHtml = 'Like what you see? Visit the ' +\n",
              "            '<a target=\"_blank\" href=https://colab.research.google.com/notebooks/data_table.ipynb>data table notebook</a>'\n",
              "            + ' to learn more about interactive tables.';\n",
              "          element.innerHTML = '';\n",
              "          dataTable['output_type'] = 'display_data';\n",
              "          await google.colab.output.renderOutput(dataTable, element);\n",
              "          const docLink = document.createElement('div');\n",
              "          docLink.innerHTML = docLinkHtml;\n",
              "          element.appendChild(docLink);\n",
              "        }\n",
              "      </script>\n",
              "    </div>\n",
              "  </div>\n",
              "  "
            ],
            "text/plain": [
              "             CIC0   SM1_Dz(Z)  ...       MLOGP  LC50 [-LOG(mol/L)]\n",
              "count  908.000000  908.000000  ...  908.000000          908.000000\n",
              "mean     2.898129    0.628468  ...    2.109285            4.064431\n",
              "std      0.756088    0.428459  ...    1.433181            1.455698\n",
              "min      0.667000    0.000000  ...   -2.884000            0.053000\n",
              "25%      2.347000    0.223000  ...    1.209000            3.151750\n",
              "50%      2.934000    0.570000  ...    2.127000            3.987500\n",
              "75%      3.407000    0.892750  ...    3.105000            4.907500\n",
              "max      5.926000    2.171000  ...    6.515000            9.612000\n",
              "\n",
              "[8 rows x 7 columns]"
            ]
          },
          "metadata": {},
          "execution_count": 9
        }
      ],
      "source": [
        "\n",
        "data.describe()"
      ]
    },
    {
      "cell_type": "code",
      "source": [
        "\n",
        "data.std()"
      ],
      "metadata": {
        "colab": {
          "base_uri": "https://localhost:8080/"
        },
        "id": "7gAPOaD0q4b3",
        "outputId": "998d2718-fe98-444c-a410-4515ccca4c44"
      },
      "execution_count": 10,
      "outputs": [
        {
          "output_type": "execute_result",
          "data": {
            "text/plain": [
              "CIC0                  0.756088\n",
              "SM1_Dz(Z)             0.428459\n",
              "GATS1i                0.394303\n",
              "NdsCH                 0.605335\n",
              "NdssC                 0.861279\n",
              "MLOGP                 1.433181\n",
              "LC50 [-LOG(mol/L)]    1.455698\n",
              "dtype: float64"
            ]
          },
          "metadata": {},
          "execution_count": 10
        }
      ]
    },
    {
      "cell_type": "code",
      "source": [
        "from sklearn.preprocessing import StandardScaler\n",
        "scaler = StandardScaler()\n",
        "scaled_data=scaler.fit_transform(data)\n",
        "print(scaled_data)"
      ],
      "metadata": {
        "colab": {
          "base_uri": "https://localhost:8080/"
        },
        "id": "Bd4vBxqphtXm",
        "outputId": "9aed31eb-b5a3-4c02-b672-dda2e81e4971"
      },
      "execution_count": 11,
      "outputs": [
        {
          "output_type": "stream",
          "name": "stdout",
          "text": [
            "[[ 0.47887329  0.46828848  0.97036948 ...  0.59748428 -0.45817453\n",
            "  -0.20237219]\n",
            " [-0.93840825 -0.11318414 -1.09263435 ... -0.56421963 -0.53147852\n",
            "  -0.652576  ]\n",
            " [-1.02310108  0.02225928 -1.173835   ... -0.56421963 -0.53147852\n",
            "  -0.36664503]\n",
            " ...\n",
            " [ 1.14450599  0.67145361 -1.05457155 ...  6.40600388  0.56459064\n",
            "   0.5179539 ]\n",
            " [-0.08883332  1.78535897 -0.54960505 ...  0.59748428 -0.8400534\n",
            "   0.86093359]\n",
            " [ 1.53356366  0.94234045 -0.28062792 ...  2.92089212  1.84636323\n",
            "   2.84320501]]\n"
          ]
        }
      ]
    },
    {
      "cell_type": "code",
      "source": [
        "\n",
        "df = pd.DataFrame(scaled_data)\n",
        "df.head()\n",
        "df.shape"
      ],
      "metadata": {
        "colab": {
          "base_uri": "https://localhost:8080/"
        },
        "id": "7rhTrZJCh-98",
        "outputId": "d757417b-40aa-4f58-9429-ed0d585784ca"
      },
      "execution_count": 12,
      "outputs": [
        {
          "output_type": "execute_result",
          "data": {
            "text/plain": [
              "(908, 7)"
            ]
          },
          "metadata": {},
          "execution_count": 12
        }
      ]
    },
    {
      "cell_type": "code",
      "source": [
        "df.columns = column_names\n",
        "df"
      ],
      "metadata": {
        "id": "dPRVJOpUi5CZ",
        "colab": {
          "base_uri": "https://localhost:8080/",
          "height": 423
        },
        "outputId": "d440c3fc-074b-41b2-8a1c-2b01f223d9d3"
      },
      "execution_count": 13,
      "outputs": [
        {
          "output_type": "execute_result",
          "data": {
            "text/html": [
              "\n",
              "  <div id=\"df-da514ba2-0eaf-4c7c-86dc-2c52a373aabd\">\n",
              "    <div class=\"colab-df-container\">\n",
              "      <div>\n",
              "<style scoped>\n",
              "    .dataframe tbody tr th:only-of-type {\n",
              "        vertical-align: middle;\n",
              "    }\n",
              "\n",
              "    .dataframe tbody tr th {\n",
              "        vertical-align: top;\n",
              "    }\n",
              "\n",
              "    .dataframe thead th {\n",
              "        text-align: right;\n",
              "    }\n",
              "</style>\n",
              "<table border=\"1\" class=\"dataframe\">\n",
              "  <thead>\n",
              "    <tr style=\"text-align: right;\">\n",
              "      <th></th>\n",
              "      <th>CIC0</th>\n",
              "      <th>SM1_Dz(Z)</th>\n",
              "      <th>GATS1i</th>\n",
              "      <th>NdsCH</th>\n",
              "      <th>NdssC</th>\n",
              "      <th>MLOGP</th>\n",
              "      <th>LC50 [-LOG(mol/L)]</th>\n",
              "    </tr>\n",
              "  </thead>\n",
              "  <tbody>\n",
              "    <tr>\n",
              "      <th>0</th>\n",
              "      <td>0.478873</td>\n",
              "      <td>0.468288</td>\n",
              "      <td>0.970369</td>\n",
              "      <td>-0.378635</td>\n",
              "      <td>0.597484</td>\n",
              "      <td>-0.458175</td>\n",
              "      <td>-0.202372</td>\n",
              "    </tr>\n",
              "    <tr>\n",
              "      <th>1</th>\n",
              "      <td>-0.938408</td>\n",
              "      <td>-0.113184</td>\n",
              "      <td>-1.092634</td>\n",
              "      <td>-0.378635</td>\n",
              "      <td>-0.564220</td>\n",
              "      <td>-0.531479</td>\n",
              "      <td>-0.652576</td>\n",
              "    </tr>\n",
              "    <tr>\n",
              "      <th>2</th>\n",
              "      <td>-1.023101</td>\n",
              "      <td>0.022259</td>\n",
              "      <td>-1.173835</td>\n",
              "      <td>-0.378635</td>\n",
              "      <td>-0.564220</td>\n",
              "      <td>-0.531479</td>\n",
              "      <td>-0.366645</td>\n",
              "    </tr>\n",
              "    <tr>\n",
              "      <th>3</th>\n",
              "      <td>0.170538</td>\n",
              "      <td>-0.694657</td>\n",
              "      <td>0.452715</td>\n",
              "      <td>1.274253</td>\n",
              "      <td>-0.564220</td>\n",
              "      <td>-0.211035</td>\n",
              "      <td>-0.381079</td>\n",
              "    </tr>\n",
              "    <tr>\n",
              "      <th>4</th>\n",
              "      <td>-1.064124</td>\n",
              "      <td>0.463618</td>\n",
              "      <td>-1.100247</td>\n",
              "      <td>-0.378635</td>\n",
              "      <td>-0.564220</td>\n",
              "      <td>-0.155883</td>\n",
              "      <td>0.911109</td>\n",
              "    </tr>\n",
              "    <tr>\n",
              "      <th>...</th>\n",
              "      <td>...</td>\n",
              "      <td>...</td>\n",
              "      <td>...</td>\n",
              "      <td>...</td>\n",
              "      <td>...</td>\n",
              "      <td>...</td>\n",
              "      <td>...</td>\n",
              "    </tr>\n",
              "    <tr>\n",
              "      <th>903</th>\n",
              "      <td>-0.128533</td>\n",
              "      <td>0.232430</td>\n",
              "      <td>2.366006</td>\n",
              "      <td>-0.378635</td>\n",
              "      <td>1.759188</td>\n",
              "      <td>-0.958736</td>\n",
              "      <td>-0.656700</td>\n",
              "    </tr>\n",
              "    <tr>\n",
              "      <th>904</th>\n",
              "      <td>0.997617</td>\n",
              "      <td>0.568703</td>\n",
              "      <td>-1.082484</td>\n",
              "      <td>2.927141</td>\n",
              "      <td>2.920892</td>\n",
              "      <td>1.308103</td>\n",
              "      <td>-0.016792</td>\n",
              "    </tr>\n",
              "    <tr>\n",
              "      <th>905</th>\n",
              "      <td>1.144506</td>\n",
              "      <td>0.671454</td>\n",
              "      <td>-1.054572</td>\n",
              "      <td>-0.378635</td>\n",
              "      <td>6.406004</td>\n",
              "      <td>0.564591</td>\n",
              "      <td>0.517954</td>\n",
              "    </tr>\n",
              "    <tr>\n",
              "      <th>906</th>\n",
              "      <td>-0.088833</td>\n",
              "      <td>1.785359</td>\n",
              "      <td>-0.549605</td>\n",
              "      <td>-0.378635</td>\n",
              "      <td>0.597484</td>\n",
              "      <td>-0.840053</td>\n",
              "      <td>0.860934</td>\n",
              "    </tr>\n",
              "    <tr>\n",
              "      <th>907</th>\n",
              "      <td>1.533564</td>\n",
              "      <td>0.942340</td>\n",
              "      <td>-0.280628</td>\n",
              "      <td>1.274253</td>\n",
              "      <td>2.920892</td>\n",
              "      <td>1.846363</td>\n",
              "      <td>2.843205</td>\n",
              "    </tr>\n",
              "  </tbody>\n",
              "</table>\n",
              "<p>908 rows × 7 columns</p>\n",
              "</div>\n",
              "      <button class=\"colab-df-convert\" onclick=\"convertToInteractive('df-da514ba2-0eaf-4c7c-86dc-2c52a373aabd')\"\n",
              "              title=\"Convert this dataframe to an interactive table.\"\n",
              "              style=\"display:none;\">\n",
              "        \n",
              "  <svg xmlns=\"http://www.w3.org/2000/svg\" height=\"24px\"viewBox=\"0 0 24 24\"\n",
              "       width=\"24px\">\n",
              "    <path d=\"M0 0h24v24H0V0z\" fill=\"none\"/>\n",
              "    <path d=\"M18.56 5.44l.94 2.06.94-2.06 2.06-.94-2.06-.94-.94-2.06-.94 2.06-2.06.94zm-11 1L8.5 8.5l.94-2.06 2.06-.94-2.06-.94L8.5 2.5l-.94 2.06-2.06.94zm10 10l.94 2.06.94-2.06 2.06-.94-2.06-.94-.94-2.06-.94 2.06-2.06.94z\"/><path d=\"M17.41 7.96l-1.37-1.37c-.4-.4-.92-.59-1.43-.59-.52 0-1.04.2-1.43.59L10.3 9.45l-7.72 7.72c-.78.78-.78 2.05 0 2.83L4 21.41c.39.39.9.59 1.41.59.51 0 1.02-.2 1.41-.59l7.78-7.78 2.81-2.81c.8-.78.8-2.07 0-2.86zM5.41 20L4 18.59l7.72-7.72 1.47 1.35L5.41 20z\"/>\n",
              "  </svg>\n",
              "      </button>\n",
              "      \n",
              "  <style>\n",
              "    .colab-df-container {\n",
              "      display:flex;\n",
              "      flex-wrap:wrap;\n",
              "      gap: 12px;\n",
              "    }\n",
              "\n",
              "    .colab-df-convert {\n",
              "      background-color: #E8F0FE;\n",
              "      border: none;\n",
              "      border-radius: 50%;\n",
              "      cursor: pointer;\n",
              "      display: none;\n",
              "      fill: #1967D2;\n",
              "      height: 32px;\n",
              "      padding: 0 0 0 0;\n",
              "      width: 32px;\n",
              "    }\n",
              "\n",
              "    .colab-df-convert:hover {\n",
              "      background-color: #E2EBFA;\n",
              "      box-shadow: 0px 1px 2px rgba(60, 64, 67, 0.3), 0px 1px 3px 1px rgba(60, 64, 67, 0.15);\n",
              "      fill: #174EA6;\n",
              "    }\n",
              "\n",
              "    [theme=dark] .colab-df-convert {\n",
              "      background-color: #3B4455;\n",
              "      fill: #D2E3FC;\n",
              "    }\n",
              "\n",
              "    [theme=dark] .colab-df-convert:hover {\n",
              "      background-color: #434B5C;\n",
              "      box-shadow: 0px 1px 3px 1px rgba(0, 0, 0, 0.15);\n",
              "      filter: drop-shadow(0px 1px 2px rgba(0, 0, 0, 0.3));\n",
              "      fill: #FFFFFF;\n",
              "    }\n",
              "  </style>\n",
              "\n",
              "      <script>\n",
              "        const buttonEl =\n",
              "          document.querySelector('#df-da514ba2-0eaf-4c7c-86dc-2c52a373aabd button.colab-df-convert');\n",
              "        buttonEl.style.display =\n",
              "          google.colab.kernel.accessAllowed ? 'block' : 'none';\n",
              "\n",
              "        async function convertToInteractive(key) {\n",
              "          const element = document.querySelector('#df-da514ba2-0eaf-4c7c-86dc-2c52a373aabd');\n",
              "          const dataTable =\n",
              "            await google.colab.kernel.invokeFunction('convertToInteractive',\n",
              "                                                     [key], {});\n",
              "          if (!dataTable) return;\n",
              "\n",
              "          const docLinkHtml = 'Like what you see? Visit the ' +\n",
              "            '<a target=\"_blank\" href=https://colab.research.google.com/notebooks/data_table.ipynb>data table notebook</a>'\n",
              "            + ' to learn more about interactive tables.';\n",
              "          element.innerHTML = '';\n",
              "          dataTable['output_type'] = 'display_data';\n",
              "          await google.colab.output.renderOutput(dataTable, element);\n",
              "          const docLink = document.createElement('div');\n",
              "          docLink.innerHTML = docLinkHtml;\n",
              "          element.appendChild(docLink);\n",
              "        }\n",
              "      </script>\n",
              "    </div>\n",
              "  </div>\n",
              "  "
            ],
            "text/plain": [
              "         CIC0  SM1_Dz(Z)    GATS1i  ...     NdssC     MLOGP  LC50 [-LOG(mol/L)]\n",
              "0    0.478873   0.468288  0.970369  ...  0.597484 -0.458175           -0.202372\n",
              "1   -0.938408  -0.113184 -1.092634  ... -0.564220 -0.531479           -0.652576\n",
              "2   -1.023101   0.022259 -1.173835  ... -0.564220 -0.531479           -0.366645\n",
              "3    0.170538  -0.694657  0.452715  ... -0.564220 -0.211035           -0.381079\n",
              "4   -1.064124   0.463618 -1.100247  ... -0.564220 -0.155883            0.911109\n",
              "..        ...        ...       ...  ...       ...       ...                 ...\n",
              "903 -0.128533   0.232430  2.366006  ...  1.759188 -0.958736           -0.656700\n",
              "904  0.997617   0.568703 -1.082484  ...  2.920892  1.308103           -0.016792\n",
              "905  1.144506   0.671454 -1.054572  ...  6.406004  0.564591            0.517954\n",
              "906 -0.088833   1.785359 -0.549605  ...  0.597484 -0.840053            0.860934\n",
              "907  1.533564   0.942340 -0.280628  ...  2.920892  1.846363            2.843205\n",
              "\n",
              "[908 rows x 7 columns]"
            ]
          },
          "metadata": {},
          "execution_count": 13
        }
      ]
    },
    {
      "cell_type": "code",
      "source": [
        "X = df.drop(['LC50 [-LOG(mol/L)]'], axis=1)"
      ],
      "metadata": {
        "id": "q3zoBDyCjW72"
      },
      "execution_count": 14,
      "outputs": []
    },
    {
      "cell_type": "code",
      "source": [
        "\n",
        "X.head()"
      ],
      "metadata": {
        "id": "sqZmxtuzjgOt",
        "colab": {
          "base_uri": "https://localhost:8080/",
          "height": 206
        },
        "outputId": "bf0e4b81-3c75-41c0-f172-660384835eb2"
      },
      "execution_count": 15,
      "outputs": [
        {
          "output_type": "execute_result",
          "data": {
            "text/html": [
              "\n",
              "  <div id=\"df-1eb5b1bd-991e-4e85-9806-a446ca3bc174\">\n",
              "    <div class=\"colab-df-container\">\n",
              "      <div>\n",
              "<style scoped>\n",
              "    .dataframe tbody tr th:only-of-type {\n",
              "        vertical-align: middle;\n",
              "    }\n",
              "\n",
              "    .dataframe tbody tr th {\n",
              "        vertical-align: top;\n",
              "    }\n",
              "\n",
              "    .dataframe thead th {\n",
              "        text-align: right;\n",
              "    }\n",
              "</style>\n",
              "<table border=\"1\" class=\"dataframe\">\n",
              "  <thead>\n",
              "    <tr style=\"text-align: right;\">\n",
              "      <th></th>\n",
              "      <th>CIC0</th>\n",
              "      <th>SM1_Dz(Z)</th>\n",
              "      <th>GATS1i</th>\n",
              "      <th>NdsCH</th>\n",
              "      <th>NdssC</th>\n",
              "      <th>MLOGP</th>\n",
              "    </tr>\n",
              "  </thead>\n",
              "  <tbody>\n",
              "    <tr>\n",
              "      <th>0</th>\n",
              "      <td>0.478873</td>\n",
              "      <td>0.468288</td>\n",
              "      <td>0.970369</td>\n",
              "      <td>-0.378635</td>\n",
              "      <td>0.597484</td>\n",
              "      <td>-0.458175</td>\n",
              "    </tr>\n",
              "    <tr>\n",
              "      <th>1</th>\n",
              "      <td>-0.938408</td>\n",
              "      <td>-0.113184</td>\n",
              "      <td>-1.092634</td>\n",
              "      <td>-0.378635</td>\n",
              "      <td>-0.564220</td>\n",
              "      <td>-0.531479</td>\n",
              "    </tr>\n",
              "    <tr>\n",
              "      <th>2</th>\n",
              "      <td>-1.023101</td>\n",
              "      <td>0.022259</td>\n",
              "      <td>-1.173835</td>\n",
              "      <td>-0.378635</td>\n",
              "      <td>-0.564220</td>\n",
              "      <td>-0.531479</td>\n",
              "    </tr>\n",
              "    <tr>\n",
              "      <th>3</th>\n",
              "      <td>0.170538</td>\n",
              "      <td>-0.694657</td>\n",
              "      <td>0.452715</td>\n",
              "      <td>1.274253</td>\n",
              "      <td>-0.564220</td>\n",
              "      <td>-0.211035</td>\n",
              "    </tr>\n",
              "    <tr>\n",
              "      <th>4</th>\n",
              "      <td>-1.064124</td>\n",
              "      <td>0.463618</td>\n",
              "      <td>-1.100247</td>\n",
              "      <td>-0.378635</td>\n",
              "      <td>-0.564220</td>\n",
              "      <td>-0.155883</td>\n",
              "    </tr>\n",
              "  </tbody>\n",
              "</table>\n",
              "</div>\n",
              "      <button class=\"colab-df-convert\" onclick=\"convertToInteractive('df-1eb5b1bd-991e-4e85-9806-a446ca3bc174')\"\n",
              "              title=\"Convert this dataframe to an interactive table.\"\n",
              "              style=\"display:none;\">\n",
              "        \n",
              "  <svg xmlns=\"http://www.w3.org/2000/svg\" height=\"24px\"viewBox=\"0 0 24 24\"\n",
              "       width=\"24px\">\n",
              "    <path d=\"M0 0h24v24H0V0z\" fill=\"none\"/>\n",
              "    <path d=\"M18.56 5.44l.94 2.06.94-2.06 2.06-.94-2.06-.94-.94-2.06-.94 2.06-2.06.94zm-11 1L8.5 8.5l.94-2.06 2.06-.94-2.06-.94L8.5 2.5l-.94 2.06-2.06.94zm10 10l.94 2.06.94-2.06 2.06-.94-2.06-.94-.94-2.06-.94 2.06-2.06.94z\"/><path d=\"M17.41 7.96l-1.37-1.37c-.4-.4-.92-.59-1.43-.59-.52 0-1.04.2-1.43.59L10.3 9.45l-7.72 7.72c-.78.78-.78 2.05 0 2.83L4 21.41c.39.39.9.59 1.41.59.51 0 1.02-.2 1.41-.59l7.78-7.78 2.81-2.81c.8-.78.8-2.07 0-2.86zM5.41 20L4 18.59l7.72-7.72 1.47 1.35L5.41 20z\"/>\n",
              "  </svg>\n",
              "      </button>\n",
              "      \n",
              "  <style>\n",
              "    .colab-df-container {\n",
              "      display:flex;\n",
              "      flex-wrap:wrap;\n",
              "      gap: 12px;\n",
              "    }\n",
              "\n",
              "    .colab-df-convert {\n",
              "      background-color: #E8F0FE;\n",
              "      border: none;\n",
              "      border-radius: 50%;\n",
              "      cursor: pointer;\n",
              "      display: none;\n",
              "      fill: #1967D2;\n",
              "      height: 32px;\n",
              "      padding: 0 0 0 0;\n",
              "      width: 32px;\n",
              "    }\n",
              "\n",
              "    .colab-df-convert:hover {\n",
              "      background-color: #E2EBFA;\n",
              "      box-shadow: 0px 1px 2px rgba(60, 64, 67, 0.3), 0px 1px 3px 1px rgba(60, 64, 67, 0.15);\n",
              "      fill: #174EA6;\n",
              "    }\n",
              "\n",
              "    [theme=dark] .colab-df-convert {\n",
              "      background-color: #3B4455;\n",
              "      fill: #D2E3FC;\n",
              "    }\n",
              "\n",
              "    [theme=dark] .colab-df-convert:hover {\n",
              "      background-color: #434B5C;\n",
              "      box-shadow: 0px 1px 3px 1px rgba(0, 0, 0, 0.15);\n",
              "      filter: drop-shadow(0px 1px 2px rgba(0, 0, 0, 0.3));\n",
              "      fill: #FFFFFF;\n",
              "    }\n",
              "  </style>\n",
              "\n",
              "      <script>\n",
              "        const buttonEl =\n",
              "          document.querySelector('#df-1eb5b1bd-991e-4e85-9806-a446ca3bc174 button.colab-df-convert');\n",
              "        buttonEl.style.display =\n",
              "          google.colab.kernel.accessAllowed ? 'block' : 'none';\n",
              "\n",
              "        async function convertToInteractive(key) {\n",
              "          const element = document.querySelector('#df-1eb5b1bd-991e-4e85-9806-a446ca3bc174');\n",
              "          const dataTable =\n",
              "            await google.colab.kernel.invokeFunction('convertToInteractive',\n",
              "                                                     [key], {});\n",
              "          if (!dataTable) return;\n",
              "\n",
              "          const docLinkHtml = 'Like what you see? Visit the ' +\n",
              "            '<a target=\"_blank\" href=https://colab.research.google.com/notebooks/data_table.ipynb>data table notebook</a>'\n",
              "            + ' to learn more about interactive tables.';\n",
              "          element.innerHTML = '';\n",
              "          dataTable['output_type'] = 'display_data';\n",
              "          await google.colab.output.renderOutput(dataTable, element);\n",
              "          const docLink = document.createElement('div');\n",
              "          docLink.innerHTML = docLinkHtml;\n",
              "          element.appendChild(docLink);\n",
              "        }\n",
              "      </script>\n",
              "    </div>\n",
              "  </div>\n",
              "  "
            ],
            "text/plain": [
              "       CIC0  SM1_Dz(Z)    GATS1i     NdsCH     NdssC     MLOGP\n",
              "0  0.478873   0.468288  0.970369 -0.378635  0.597484 -0.458175\n",
              "1 -0.938408  -0.113184 -1.092634 -0.378635 -0.564220 -0.531479\n",
              "2 -1.023101   0.022259 -1.173835 -0.378635 -0.564220 -0.531479\n",
              "3  0.170538  -0.694657  0.452715  1.274253 -0.564220 -0.211035\n",
              "4 -1.064124   0.463618 -1.100247 -0.378635 -0.564220 -0.155883"
            ]
          },
          "metadata": {},
          "execution_count": 15
        }
      ]
    },
    {
      "cell_type": "code",
      "source": [
        "y = df['LC50 [-LOG(mol/L)]']\n",
        "y.head()"
      ],
      "metadata": {
        "colab": {
          "base_uri": "https://localhost:8080/"
        },
        "id": "vcJzezCtl1rQ",
        "outputId": "6ac1ce1e-6544-4bc2-c8c5-31ebe4a56c1c"
      },
      "execution_count": 16,
      "outputs": [
        {
          "output_type": "execute_result",
          "data": {
            "text/plain": [
              "0   -0.202372\n",
              "1   -0.652576\n",
              "2   -0.366645\n",
              "3   -0.381079\n",
              "4    0.911109\n",
              "Name: LC50 [-LOG(mol/L)], dtype: float64"
            ]
          },
          "metadata": {},
          "execution_count": 16
        }
      ]
    },
    {
      "cell_type": "code",
      "source": [
        "model = LinearRegression( fit_intercept= False,n_jobs=-1, positive= False) \n",
        "X_train, X_test, y_train, y_test = train_test_split(X,y,test_size=0.5,random_state=0,shuffle=True)"
      ],
      "metadata": {
        "id": "9A4tuqHNl6hx"
      },
      "execution_count": 17,
      "outputs": []
    },
    {
      "cell_type": "code",
      "source": [
        "\n",
        "params = {\n",
        "   \"fit_intercept\":[True,False],\n",
        "    \"positive\":[True,False]\n",
        "}"
      ],
      "metadata": {
        "id": "lvOthmuGqlUV"
      },
      "execution_count": 18,
      "outputs": []
    },
    {
      "cell_type": "code",
      "source": [
        "model.fit(X_train, y_train)"
      ],
      "metadata": {
        "colab": {
          "base_uri": "https://localhost:8080/"
        },
        "id": "Q77jiGtBmB9J",
        "outputId": "7fb276eb-6732-4d96-c5c5-933e177d34a4"
      },
      "execution_count": 19,
      "outputs": [
        {
          "output_type": "execute_result",
          "data": {
            "text/plain": [
              "LinearRegression(fit_intercept=False, n_jobs=-1)"
            ]
          },
          "metadata": {},
          "execution_count": 19
        }
      ]
    },
    {
      "cell_type": "code",
      "source": [
        "y_pred = model.predict(X_test)\n",
        "print(y_pred)"
      ],
      "metadata": {
        "colab": {
          "base_uri": "https://localhost:8080/"
        },
        "id": "3cT4aDPCmEa0",
        "outputId": "7efe3fc4-748d-4898-931d-39510451a442"
      },
      "execution_count": 20,
      "outputs": [
        {
          "output_type": "stream",
          "name": "stdout",
          "text": [
            "[ 5.77194000e-01  5.35852250e-01  7.89730739e-03  1.06291192e-01\n",
            " -8.41384295e-01 -1.77790557e+00  1.60129595e-01  1.36959165e-01\n",
            " -5.28189937e-01 -6.19365954e-01  1.39099159e+00  4.22006431e-01\n",
            "  1.00747108e+00  7.50585126e-01  1.65523243e-01 -4.35684339e-01\n",
            "  2.14834348e+00 -6.92749348e-01  9.39563792e-01  7.47086804e-01\n",
            " -1.00067986e+00  2.87122537e-02 -5.48346217e-01  8.30706125e-03\n",
            " -4.81685551e-01  5.70453049e-01  6.77143969e-01  1.82051749e+00\n",
            " -1.46856145e+00 -2.46614072e-01 -2.12166330e-01  1.24798605e-01\n",
            "  6.74431006e-01  6.97270425e-01  5.32451730e-01 -6.51780559e-01\n",
            " -1.48857209e-01  7.90626832e-01  2.66612551e-01 -1.18744811e+00\n",
            "  1.15429514e+00  2.64797356e-01 -3.25240161e-01 -6.99456353e-01\n",
            " -1.68913692e+00 -1.13310821e-01  6.96232098e-01 -1.70998288e+00\n",
            "  1.50415895e-01 -4.92297756e-01  9.18665040e-01 -1.33439019e-01\n",
            " -1.13996527e+00  8.17192432e-02  9.70169159e-01 -9.62415760e-02\n",
            " -2.13648319e-01 -4.18877381e-01 -4.93150914e-01 -5.72490258e-01\n",
            " -2.60490357e-01 -8.10348113e-01  2.04832787e-02 -9.92565160e-01\n",
            " -5.07955733e-01 -4.32414819e-02 -1.33973299e-01 -4.43928552e-01\n",
            " -4.35777115e-01  1.91546895e-01 -5.84701526e-01 -4.34634563e-01\n",
            "  5.98834072e-01 -1.00594602e+00  4.25644702e-01  5.11256828e-01\n",
            "  1.02173325e-01 -9.25094108e-01  3.82827277e-01  8.86644710e-02\n",
            "  1.18591223e+00  1.84306838e+00  4.13993509e-01 -3.10003765e-01\n",
            "  9.20606723e-01  4.68541245e-01 -8.13009563e-01  3.43382430e-01\n",
            " -8.54150182e-02  7.11630376e-01 -4.30747155e-01 -2.32114416e-02\n",
            "  7.72011419e-01 -1.76893046e+00  4.94455959e-01  2.41826328e-01\n",
            "  1.20653517e-01 -4.66834707e-01 -4.62428906e-01 -4.33555794e-01\n",
            "  7.99069262e-01  6.22479148e-01  6.38567140e-01 -8.69340690e-01\n",
            "  2.91773069e-02 -3.56546823e-02 -1.10758451e+00  8.65303233e-01\n",
            " -2.77455200e-02 -4.64381853e-01 -3.96694348e-01  1.67820282e+00\n",
            " -5.87528140e-01 -2.43352990e-02 -8.63494415e-02  3.82827277e-01\n",
            " -2.86798034e-01 -1.42412858e-02  1.00322772e+00  1.51236792e+00\n",
            " -1.47820952e-01  1.05012894e-01 -8.66994592e-01  6.96793451e-02\n",
            " -3.67505568e-01 -1.18281092e-01  8.13601288e-01 -6.17572705e-01\n",
            "  7.62038366e-01 -7.10057023e-01  8.33151993e-01  1.18081780e+00\n",
            "  1.12874369e+00  8.06120278e-01  9.72682899e-01  3.69584525e-01\n",
            "  2.30585079e-01 -1.08865018e+00 -1.09429925e-01 -2.60857954e-01\n",
            " -2.13836623e-01 -9.04359646e-01 -1.18216232e+00 -4.15594549e-01\n",
            " -3.41652837e-01 -1.53217946e-01 -4.39599516e-01 -2.35186669e-01\n",
            "  1.40812638e+00  3.43466838e-01  5.45818012e-01 -7.14977780e-01\n",
            "  1.74693706e+00  1.32767579e-02  2.16045048e-01 -8.11706932e-01\n",
            " -3.76176080e-01 -3.41280326e-01 -5.29657080e-01  1.17517398e+00\n",
            " -4.28714641e-01 -5.68047100e-01  3.00922355e-01  5.67854876e-01\n",
            " -7.60918922e-01 -2.32047849e-01  7.33576908e-01 -1.09697054e-01\n",
            "  1.61063930e-01  5.18960073e-01 -1.03356477e+00 -1.88195336e-01\n",
            " -1.30710133e+00  6.00356378e-01 -3.05444940e-01 -5.28189937e-01\n",
            "  1.21186118e+00  1.60116965e-01 -8.42679811e-01  1.14094806e+00\n",
            " -2.75319283e-01  8.50122924e-02  2.83722649e+00 -9.85242367e-01\n",
            "  6.38567140e-01  8.05538990e-02 -4.63973918e-01 -1.22865470e+00\n",
            "  6.74254274e-01 -1.67251546e+00  1.79923907e+00 -4.31648555e-01\n",
            " -2.66570052e-01 -7.70598666e-03 -3.24896629e-01 -1.14158840e+00\n",
            " -2.23185429e-01 -1.28263239e-01 -5.05715434e-01 -1.17447961e-01\n",
            " -9.33052672e-01  1.84568003e+00 -1.18089403e+00 -3.10003765e-01\n",
            "  8.98493467e-01 -3.74022948e-01  9.48208180e-02 -6.26475287e-01\n",
            "  1.50415895e-01 -4.43928552e-01 -1.08852553e+00  2.69698691e-01\n",
            "  1.69615325e-01 -1.21822161e-01  5.35802782e-01 -5.14169908e-01\n",
            " -5.71426718e-01 -7.90895159e-01  1.41462880e+00  5.70864268e-02\n",
            "  2.63571399e-01 -2.32047849e-01 -5.61767099e-01  7.47086804e-01\n",
            " -9.58236770e-02 -4.06211524e-01 -3.72089870e-01 -9.04078679e-01\n",
            "  6.92487210e-01  6.96232098e-01  2.84436347e-01  5.39022680e-02\n",
            " -1.20580581e+00 -1.19745935e+00  5.09232619e-01 -2.66570052e-01\n",
            " -3.05444940e-01 -1.77430219e-01  4.37521369e-01  9.48208180e-02\n",
            "  4.85228227e-01 -8.32439973e-02 -2.77187438e-01 -9.56158164e-01\n",
            " -8.95477225e-01 -1.71407638e+00 -4.27098481e-02  2.89416943e-01\n",
            "  1.38797346e+00  3.96294320e-02  8.64663702e-01  1.05247092e+00\n",
            " -5.38579746e-01 -7.15600324e-01 -1.23715523e+00  3.86917899e-01\n",
            " -3.43192159e-01 -1.50476757e-01  1.81876597e-01 -3.74022948e-01\n",
            " -1.33973299e-01  4.30096450e-01 -7.71798716e-01 -8.65877447e-01\n",
            "  9.39563792e-01 -9.64879358e-01 -8.11706932e-01 -1.14620373e+00\n",
            "  4.40564411e-01  3.13948699e-01  3.30560450e-01  3.52757621e-01\n",
            " -2.35431105e-01 -1.06822635e+00  7.77485454e-01  5.93642750e-03\n",
            "  2.10924961e-01 -3.97821336e-01  6.74254274e-01 -1.08815948e+00\n",
            " -4.58249604e-01 -6.56366803e-01  7.11630376e-01 -9.70719654e-02\n",
            " -1.31659921e+00  1.73843928e+00  3.13948699e-01 -8.92706983e-01\n",
            " -1.80333213e-01  6.61114259e-01  6.48275701e-01  4.00142037e-01\n",
            " -8.79691959e-02 -4.91762703e-01  7.47767245e-01  3.73322351e-01\n",
            " -8.65855171e-01 -1.05436279e-01  1.19129689e+00  1.64314933e+00\n",
            " -2.12983464e-01 -6.76296420e-01 -1.41349842e+00 -9.60990743e-01\n",
            " -1.50273191e-01  7.62038366e-01 -6.02050592e-01 -8.04376333e-02\n",
            "  8.81831161e-02  1.22508954e+00 -8.48610054e-01  4.20281575e-01\n",
            " -1.00594602e+00 -1.16978240e+00  5.30815783e-01 -1.05755909e+00\n",
            " -8.66994592e-01 -1.27960509e+00 -5.63659603e-01  3.16438219e-01\n",
            "  2.65719764e-01  7.72642545e-01  9.38320586e-01 -1.01872650e-01\n",
            "  1.13390362e+00 -1.77430219e-01  5.26393509e-01  2.14786778e-03\n",
            "  2.38991298e-01  4.30096450e-01 -6.73795886e-02 -3.91015703e-01\n",
            " -9.80855740e-02 -6.26436628e-01  1.96762186e+00 -1.48857209e-01\n",
            " -1.47894896e+00  6.22479148e-01 -5.44390262e-01 -2.32047849e-01\n",
            " -5.24974031e-01  9.48208180e-02 -4.34250310e-01 -1.09183069e+00\n",
            "  4.36240632e-01 -3.73948910e-01 -2.63777674e-01  4.51599090e-01\n",
            " -1.12044019e+00  5.05326541e-01 -1.77430219e-01  8.60414491e-01\n",
            "  1.26692535e+00  9.00631660e-02 -1.73093810e-01  6.65769015e-01\n",
            "  4.75055659e-01 -1.35563959e-02 -4.91762703e-01 -6.46855023e-01\n",
            "  2.18822494e-01 -3.76176080e-01 -9.95131359e-02 -4.37277303e-01\n",
            "  9.57700035e-01 -1.48457476e-01 -3.91245925e-01 -1.08094108e+00\n",
            " -4.32052827e-01  3.31467252e-01 -2.89450275e-01 -6.15385470e-02\n",
            "  5.09620478e-01  7.35763378e-01  1.83650239e-01  1.73577252e+00\n",
            "  1.59790757e+00  5.31699127e-01  1.24667484e+00 -2.67480906e-02\n",
            " -8.48312788e-02  8.81099917e-02  4.39658856e-03 -2.90415276e-01\n",
            " -1.11726979e+00  4.17419825e-01 -5.44390262e-01 -1.47248294e+00\n",
            " -8.26914902e-02 -1.08741024e+00  1.64178874e+00  4.64778589e-01\n",
            " -2.32047849e-01 -2.08505255e-01 -1.43980166e+00 -1.41148427e+00\n",
            " -4.64719376e-01 -6.91726353e-01  5.92978670e-01 -3.91015703e-01\n",
            "  6.03490773e-02 -6.36802930e-01  5.74800586e-01 -6.76296420e-01\n",
            " -1.87139062e-02 -6.76296420e-01  7.75185080e-01  2.83013233e-01\n",
            " -1.32816053e-01 -3.46653465e-01  4.15983353e-01  1.82936996e-01\n",
            "  1.60129595e-01 -3.07420993e-01  7.58617000e-02  1.15211035e-01\n",
            " -2.48473534e-01  3.61018231e-01  5.64420592e-01  3.97958394e-01\n",
            " -3.94467795e-01  1.69283239e+00  2.96603488e-01  8.02501752e-02\n",
            "  8.39268834e-01  3.06362856e-01  5.06713626e-01  6.76480263e-01\n",
            " -3.11074966e-01  2.19716444e-01 -2.33596049e-01  1.81035677e+00\n",
            "  1.58888200e+00  1.45400817e-01  1.41630782e+00 -1.35263478e-01\n",
            " -1.77430219e-01  1.29635031e+00  3.99003937e-01 -3.10003765e-01\n",
            " -6.38859293e-01 -4.43928552e-01  6.00867401e-01 -6.72167859e-01\n",
            "  2.04227371e+00 -9.95657290e-01 -8.12275416e-01  5.92322381e-01\n",
            "  1.22201340e+00 -7.98863654e-01 -1.25796106e-01 -5.18454454e-01\n",
            "  1.76544111e-01 -1.31541479e+00]\n"
          ]
        }
      ]
    },
    {
      "cell_type": "code",
      "source": [
        "\n",
        "from sklearn.metrics import r2_score\n",
        "r2_score(y_test,y_pred)"
      ],
      "metadata": {
        "colab": {
          "base_uri": "https://localhost:8080/"
        },
        "id": "ymhMlKQfmZVD",
        "outputId": "f44d3985-516e-4ec1-9894-01cc471f2d20"
      },
      "execution_count": 21,
      "outputs": [
        {
          "output_type": "execute_result",
          "data": {
            "text/plain": [
              "0.568586708912305"
            ]
          },
          "metadata": {},
          "execution_count": 21
        }
      ]
    },
    {
      "cell_type": "code",
      "source": [
        "from sklearn.model_selection import GridSearchCV\n",
        "grid = GridSearchCV(estimator=model,param_grid=params,scoring='r2')"
      ],
      "metadata": {
        "id": "UCoF5XFXnM9Q"
      },
      "execution_count": 22,
      "outputs": []
    },
    {
      "cell_type": "code",
      "source": [
        " model=grid.fit(X_train,y_train)\n"
      ],
      "metadata": {
        "id": "HPCRMkfILq64"
      },
      "execution_count": 23,
      "outputs": []
    },
    {
      "cell_type": "code",
      "source": [
        "model.best_params_"
      ],
      "metadata": {
        "id": "zFmHREFWQzFZ",
        "colab": {
          "base_uri": "https://localhost:8080/"
        },
        "outputId": "5fc8c865-643c-4788-a63b-37bf36e58253"
      },
      "execution_count": 24,
      "outputs": [
        {
          "output_type": "execute_result",
          "data": {
            "text/plain": [
              "{'fit_intercept': False, 'positive': False}"
            ]
          },
          "metadata": {},
          "execution_count": 24
        }
      ]
    },
    {
      "cell_type": "code",
      "source": [
        "\n",
        "\n",
        "model.best_score_\n",
        "\n"
      ],
      "metadata": {
        "colab": {
          "base_uri": "https://localhost:8080/"
        },
        "id": "zgzNh2Div17E",
        "outputId": "8a662364-33af-4f3e-8747-7de077af3616"
      },
      "execution_count": 25,
      "outputs": [
        {
          "output_type": "execute_result",
          "data": {
            "text/plain": [
              "0.5516485005860436"
            ]
          },
          "metadata": {},
          "execution_count": 25
        }
      ]
    },
    {
      "cell_type": "code",
      "source": [
        "\n",
        "from sklearn import linear_model\n",
        "lasso_reg = linear_model.Lasso(alpha=500,max_iter=500,tol=0.925)\n",
        "lasso_reg.fit(X_train,y_train)\n",
        "\n",
        "\n"
      ],
      "metadata": {
        "colab": {
          "base_uri": "https://localhost:8080/"
        },
        "id": "Ngr632t41SpE",
        "outputId": "ce4093ab-c2ac-4955-bd9a-e091c35b360f"
      },
      "execution_count": 26,
      "outputs": [
        {
          "output_type": "execute_result",
          "data": {
            "text/plain": [
              "Lasso(alpha=500, max_iter=500, tol=0.925)"
            ]
          },
          "metadata": {},
          "execution_count": 26
        }
      ]
    },
    {
      "cell_type": "code",
      "source": [
        "lasso_reg.score(X_test,y_test)"
      ],
      "metadata": {
        "colab": {
          "base_uri": "https://localhost:8080/"
        },
        "id": "ZMGSrwr73TLS",
        "outputId": "b40efab4-cd24-49de-9ffb-04e0e5d963ae"
      },
      "execution_count": 27,
      "outputs": [
        {
          "output_type": "execute_result",
          "data": {
            "text/plain": [
              "-0.011208952222098612"
            ]
          },
          "metadata": {},
          "execution_count": 27
        }
      ]
    },
    {
      "cell_type": "code",
      "source": [
        "from sklearn.tree import DecisionTreeRegressor\n",
        "regressor = DecisionTreeRegressor(random_state = 1, max_depth=40)\n",
        "regressor.fit(X_train, y_train)"
      ],
      "metadata": {
        "id": "prtDxf5S6E83",
        "colab": {
          "base_uri": "https://localhost:8080/"
        },
        "outputId": "35f80ff6-d79d-4146-c7eb-c2837ec29b21"
      },
      "execution_count": 28,
      "outputs": [
        {
          "output_type": "execute_result",
          "data": {
            "text/plain": [
              "DecisionTreeRegressor(max_depth=40, random_state=1)"
            ]
          },
          "metadata": {},
          "execution_count": 28
        }
      ]
    },
    {
      "cell_type": "code",
      "source": [
        "regressor.score(X_train, y_train)"
      ],
      "metadata": {
        "colab": {
          "base_uri": "https://localhost:8080/"
        },
        "id": "5YaNC8m3qPoy",
        "outputId": "7fd15c7d-4e03-4db8-f9bf-d3b369c4022a"
      },
      "execution_count": 29,
      "outputs": [
        {
          "output_type": "execute_result",
          "data": {
            "text/plain": [
              "0.9907985298644324"
            ]
          },
          "metadata": {},
          "execution_count": 29
        }
      ]
    },
    {
      "cell_type": "code",
      "source": [
        "predictions=regressor.predict(X_test)"
      ],
      "metadata": {
        "id": "cVCqny-hqfGB"
      },
      "execution_count": 30,
      "outputs": []
    },
    {
      "cell_type": "code",
      "source": [
        "r2_score(y_test,predictions)"
      ],
      "metadata": {
        "colab": {
          "base_uri": "https://localhost:8080/"
        },
        "id": "2hC4eOX0sg6T",
        "outputId": "f9d33723-43a9-4d9b-ad66-5d8aa67da6da"
      },
      "execution_count": 31,
      "outputs": [
        {
          "output_type": "execute_result",
          "data": {
            "text/plain": [
              "0.2780809023468791"
            ]
          },
          "metadata": {},
          "execution_count": 31
        }
      ]
    },
    {
      "cell_type": "code",
      "source": [
        "from sklearn.ensemble import RandomForestRegressor\n",
        "regressor2 = RandomForestRegressor(n_estimators = 400, random_state = 0)\n",
        "regressor2.fit(X_train, y_train)"
      ],
      "metadata": {
        "id": "fP0J7AYOq_Lz",
        "colab": {
          "base_uri": "https://localhost:8080/"
        },
        "outputId": "e4bd0277-cf40-4bca-b676-827abf266aae"
      },
      "execution_count": 32,
      "outputs": [
        {
          "output_type": "execute_result",
          "data": {
            "text/plain": [
              "RandomForestRegressor(n_estimators=400, random_state=0)"
            ]
          },
          "metadata": {},
          "execution_count": 32
        }
      ]
    },
    {
      "cell_type": "code",
      "source": [
        "\n",
        "regressor2.score(X_train, y_train)"
      ],
      "metadata": {
        "colab": {
          "base_uri": "https://localhost:8080/"
        },
        "id": "FZxH2C9Av6tg",
        "outputId": "427b0295-71c6-4369-e19f-977f5f2eb93a"
      },
      "execution_count": 33,
      "outputs": [
        {
          "output_type": "execute_result",
          "data": {
            "text/plain": [
              "0.9380682835536306"
            ]
          },
          "metadata": {},
          "execution_count": 33
        }
      ]
    },
    {
      "cell_type": "code",
      "source": [
        "pred2=regressor2.predict(X_test)"
      ],
      "metadata": {
        "id": "R2SJtl_FxcEa"
      },
      "execution_count": 34,
      "outputs": []
    },
    {
      "cell_type": "code",
      "source": [
        "y_test.head"
      ],
      "metadata": {
        "colab": {
          "base_uri": "https://localhost:8080/"
        },
        "id": "QCOgja8mxk1t",
        "outputId": "fd0d5cc7-3aee-4c4d-f92a-d9dfac80e1cf"
      },
      "execution_count": 35,
      "outputs": [
        {
          "output_type": "execute_result",
          "data": {
            "text/plain": [
              "<bound method NDFrame.head of 251    0.971594\n",
              "732    0.430662\n",
              "497    0.109677\n",
              "887   -0.491052\n",
              "144   -0.390702\n",
              "         ...   \n",
              "520   -0.680069\n",
              "0     -0.202372\n",
              "46    -0.033288\n",
              "171    0.086995\n",
              "392   -1.548172\n",
              "Name: LC50 [-LOG(mol/L)], Length: 454, dtype: float64>"
            ]
          },
          "metadata": {},
          "execution_count": 35
        }
      ]
    },
    {
      "cell_type": "code",
      "source": [
        "r2_score(y_test,pred2)"
      ],
      "metadata": {
        "colab": {
          "base_uri": "https://localhost:8080/"
        },
        "id": "mqux2u2iyNDO",
        "outputId": "cfa0649a-d344-449b-e071-a0f52ceb580b"
      },
      "execution_count": 36,
      "outputs": [
        {
          "output_type": "execute_result",
          "data": {
            "text/plain": [
              "0.6012993338214137"
            ]
          },
          "metadata": {},
          "execution_count": 36
        }
      ]
    },
    {
      "cell_type": "code",
      "source": [
        "from sklearn.svm import SVR\n",
        "regressor = SVR(kernel = 'rbf')\n",
        "regressor.fit(X_train, y_train)"
      ],
      "metadata": {
        "colab": {
          "base_uri": "https://localhost:8080/"
        },
        "id": "FwEgrWAGKywx",
        "outputId": "34f68ca4-5574-4079-bb94-02d65ea1b7e4"
      },
      "execution_count": 37,
      "outputs": [
        {
          "output_type": "execute_result",
          "data": {
            "text/plain": [
              "SVR()"
            ]
          },
          "metadata": {},
          "execution_count": 37
        }
      ]
    },
    {
      "cell_type": "code",
      "source": [
        "regressor.score(X_train, y_train)"
      ],
      "metadata": {
        "colab": {
          "base_uri": "https://localhost:8080/"
        },
        "id": "ullYAm4WMQnh",
        "outputId": "737bdb69-c212-4c7b-c3d4-916e357b9983"
      },
      "execution_count": 38,
      "outputs": [
        {
          "output_type": "execute_result",
          "data": {
            "text/plain": [
              "0.7288958738751936"
            ]
          },
          "metadata": {},
          "execution_count": 38
        }
      ]
    },
    {
      "cell_type": "code",
      "source": [
        "svr_trainpred=regressor.predict(X_train)"
      ],
      "metadata": {
        "id": "dCxzBDkAhjTc"
      },
      "execution_count": 39,
      "outputs": []
    },
    {
      "cell_type": "code",
      "source": [
        "r2_score(y_train,svr_trainpred)"
      ],
      "metadata": {
        "colab": {
          "base_uri": "https://localhost:8080/"
        },
        "id": "VK7A6aCEhe5X",
        "outputId": "038d9ccf-ff6e-472b-8699-87d5f02f1310"
      },
      "execution_count": 40,
      "outputs": [
        {
          "output_type": "execute_result",
          "data": {
            "text/plain": [
              "0.7288958738751936"
            ]
          },
          "metadata": {},
          "execution_count": 40
        }
      ]
    },
    {
      "cell_type": "code",
      "source": [
        "svr_preds=regressor.predict(X_test)"
      ],
      "metadata": {
        "id": "8EWzGCOVMc3o"
      },
      "execution_count": 41,
      "outputs": []
    },
    {
      "cell_type": "code",
      "source": [
        "regressor.score(X_test,y_test)"
      ],
      "metadata": {
        "colab": {
          "base_uri": "https://localhost:8080/"
        },
        "id": "mCqY7O_GMlHF",
        "outputId": "619f9f66-e131-4f46-e0cf-7464534ce01f"
      },
      "execution_count": 42,
      "outputs": [
        {
          "output_type": "execute_result",
          "data": {
            "text/plain": [
              "0.6346017592989304"
            ]
          },
          "metadata": {},
          "execution_count": 42
        }
      ]
    },
    {
      "cell_type": "code",
      "source": [
        "r2_score(y_pred,svr_preds)"
      ],
      "metadata": {
        "colab": {
          "base_uri": "https://localhost:8080/"
        },
        "id": "LbSzSjN7MqRP",
        "outputId": "352c4eb1-2575-43f1-9c4f-89d008482055"
      },
      "execution_count": 43,
      "outputs": [
        {
          "output_type": "execute_result",
          "data": {
            "text/plain": [
              "0.8027585481887748"
            ]
          },
          "metadata": {},
          "execution_count": 43
        }
      ]
    },
    {
      "cell_type": "code",
      "source": [
        "param = {'kernel' : ('linear', 'poly', 'rbf', 'sigmoid'),'C' : [1,5,10],'degree' : [3,8],'coef0' : [0.01,10,0.5],'gamma' : ('auto','scale')}"
      ],
      "metadata": {
        "id": "VneAUJ8qgSEO"
      },
      "execution_count": 44,
      "outputs": []
    },
    {
      "cell_type": "code",
      "source": [
        "grid2 = GridSearchCV(estimator=regressor,param_grid=param,scoring='r2')"
      ],
      "metadata": {
        "id": "0UPabp-u4y06"
      },
      "execution_count": 46,
      "outputs": []
    },
    {
      "cell_type": "code",
      "source": [
        "# regressor1 = SVR(kernel = 'rbf',C=0.5,degree=40,coef0=0.5,tol=0.0001)\n",
        "#This params result is 0.81% "
      ],
      "metadata": {
        "id": "gjdWZG8LKvR6"
      },
      "execution_count": null,
      "outputs": []
    }
  ],
  "metadata": {
    "colab": {
      "collapsed_sections": [],
      "name": "LC50.ipynb",
      "provenance": [],
      "authorship_tag": "ABX9TyNAJ8p3COiSrsP5/U+mq7z6",
      "include_colab_link": true
    },
    "kernelspec": {
      "display_name": "Python 3",
      "name": "python3"
    },
    "language_info": {
      "name": "python"
    }
  },
  "nbformat": 4,
  "nbformat_minor": 0
}